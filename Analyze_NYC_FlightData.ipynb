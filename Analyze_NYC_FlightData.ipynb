{
 "cells": [
  {
   "cell_type": "code",
   "execution_count": 1,
   "metadata": {
    "collapsed": true
   },
   "outputs": [],
   "source": [
    "import pandas as pd\n",
    "import numpy as np"
   ]
  },
  {
   "cell_type": "code",
   "execution_count": 2,
   "metadata": {},
   "outputs": [
    {
     "data": {
      "text/html": [
       "<div>\n",
       "<style>\n",
       "    .dataframe thead tr:only-child th {\n",
       "        text-align: right;\n",
       "    }\n",
       "\n",
       "    .dataframe thead th {\n",
       "        text-align: left;\n",
       "    }\n",
       "\n",
       "    .dataframe tbody tr th {\n",
       "        vertical-align: top;\n",
       "    }\n",
       "</style>\n",
       "<table border=\"1\" class=\"dataframe\">\n",
       "  <thead>\n",
       "    <tr style=\"text-align: right;\">\n",
       "      <th></th>\n",
       "      <th>year</th>\n",
       "      <th>month</th>\n",
       "      <th>day</th>\n",
       "      <th>dep_time</th>\n",
       "      <th>sched_dep_time</th>\n",
       "      <th>dep_delay</th>\n",
       "      <th>arr_time</th>\n",
       "      <th>sched_arr_time</th>\n",
       "      <th>arr_delay</th>\n",
       "      <th>carrier</th>\n",
       "      <th>flight</th>\n",
       "      <th>tailnum</th>\n",
       "      <th>origin</th>\n",
       "      <th>dest</th>\n",
       "      <th>air_time</th>\n",
       "      <th>distance</th>\n",
       "      <th>hour</th>\n",
       "      <th>minute</th>\n",
       "      <th>time_hour</th>\n",
       "    </tr>\n",
       "  </thead>\n",
       "  <tbody>\n",
       "    <tr>\n",
       "      <th>0</th>\n",
       "      <td>2013</td>\n",
       "      <td>1</td>\n",
       "      <td>1</td>\n",
       "      <td>517.0</td>\n",
       "      <td>515</td>\n",
       "      <td>2.0</td>\n",
       "      <td>830.0</td>\n",
       "      <td>819</td>\n",
       "      <td>11.0</td>\n",
       "      <td>UA</td>\n",
       "      <td>1545</td>\n",
       "      <td>N14228</td>\n",
       "      <td>EWR</td>\n",
       "      <td>IAH</td>\n",
       "      <td>227.0</td>\n",
       "      <td>1400</td>\n",
       "      <td>5</td>\n",
       "      <td>15</td>\n",
       "      <td>01-01-2013 05:00</td>\n",
       "    </tr>\n",
       "    <tr>\n",
       "      <th>1</th>\n",
       "      <td>2013</td>\n",
       "      <td>1</td>\n",
       "      <td>1</td>\n",
       "      <td>533.0</td>\n",
       "      <td>529</td>\n",
       "      <td>4.0</td>\n",
       "      <td>850.0</td>\n",
       "      <td>830</td>\n",
       "      <td>20.0</td>\n",
       "      <td>UA</td>\n",
       "      <td>1714</td>\n",
       "      <td>N24211</td>\n",
       "      <td>LGA</td>\n",
       "      <td>IAH</td>\n",
       "      <td>227.0</td>\n",
       "      <td>1416</td>\n",
       "      <td>5</td>\n",
       "      <td>29</td>\n",
       "      <td>01-01-2013 05:00</td>\n",
       "    </tr>\n",
       "    <tr>\n",
       "      <th>2</th>\n",
       "      <td>2013</td>\n",
       "      <td>1</td>\n",
       "      <td>1</td>\n",
       "      <td>542.0</td>\n",
       "      <td>540</td>\n",
       "      <td>2.0</td>\n",
       "      <td>923.0</td>\n",
       "      <td>850</td>\n",
       "      <td>33.0</td>\n",
       "      <td>AA</td>\n",
       "      <td>1141</td>\n",
       "      <td>N619AA</td>\n",
       "      <td>JFK</td>\n",
       "      <td>MIA</td>\n",
       "      <td>160.0</td>\n",
       "      <td>1089</td>\n",
       "      <td>5</td>\n",
       "      <td>40</td>\n",
       "      <td>01-01-2013 05:00</td>\n",
       "    </tr>\n",
       "    <tr>\n",
       "      <th>3</th>\n",
       "      <td>2013</td>\n",
       "      <td>1</td>\n",
       "      <td>1</td>\n",
       "      <td>544.0</td>\n",
       "      <td>545</td>\n",
       "      <td>-1.0</td>\n",
       "      <td>1004.0</td>\n",
       "      <td>1022</td>\n",
       "      <td>-18.0</td>\n",
       "      <td>B6</td>\n",
       "      <td>725</td>\n",
       "      <td>N804JB</td>\n",
       "      <td>JFK</td>\n",
       "      <td>BQN</td>\n",
       "      <td>183.0</td>\n",
       "      <td>1576</td>\n",
       "      <td>5</td>\n",
       "      <td>45</td>\n",
       "      <td>01-01-2013 05:00</td>\n",
       "    </tr>\n",
       "    <tr>\n",
       "      <th>4</th>\n",
       "      <td>2013</td>\n",
       "      <td>1</td>\n",
       "      <td>1</td>\n",
       "      <td>554.0</td>\n",
       "      <td>600</td>\n",
       "      <td>-6.0</td>\n",
       "      <td>812.0</td>\n",
       "      <td>837</td>\n",
       "      <td>-25.0</td>\n",
       "      <td>DL</td>\n",
       "      <td>461</td>\n",
       "      <td>N668DN</td>\n",
       "      <td>LGA</td>\n",
       "      <td>ATL</td>\n",
       "      <td>116.0</td>\n",
       "      <td>762</td>\n",
       "      <td>6</td>\n",
       "      <td>0</td>\n",
       "      <td>01-01-2013 06:00</td>\n",
       "    </tr>\n",
       "  </tbody>\n",
       "</table>\n",
       "</div>"
      ],
      "text/plain": [
       "   year  month  day  dep_time  sched_dep_time  dep_delay  arr_time  \\\n",
       "0  2013      1    1     517.0             515        2.0     830.0   \n",
       "1  2013      1    1     533.0             529        4.0     850.0   \n",
       "2  2013      1    1     542.0             540        2.0     923.0   \n",
       "3  2013      1    1     544.0             545       -1.0    1004.0   \n",
       "4  2013      1    1     554.0             600       -6.0     812.0   \n",
       "\n",
       "   sched_arr_time  arr_delay carrier  flight tailnum origin dest  air_time  \\\n",
       "0             819       11.0      UA    1545  N14228    EWR  IAH     227.0   \n",
       "1             830       20.0      UA    1714  N24211    LGA  IAH     227.0   \n",
       "2             850       33.0      AA    1141  N619AA    JFK  MIA     160.0   \n",
       "3            1022      -18.0      B6     725  N804JB    JFK  BQN     183.0   \n",
       "4             837      -25.0      DL     461  N668DN    LGA  ATL     116.0   \n",
       "\n",
       "   distance  hour  minute         time_hour  \n",
       "0      1400     5      15  01-01-2013 05:00  \n",
       "1      1416     5      29  01-01-2013 05:00  \n",
       "2      1089     5      40  01-01-2013 05:00  \n",
       "3      1576     5      45  01-01-2013 05:00  \n",
       "4       762     6       0  01-01-2013 06:00  "
      ]
     },
     "execution_count": 2,
     "metadata": {},
     "output_type": "execute_result"
    }
   ],
   "source": [
    "fdata = pd.read_csv('flight_data.csv')\n",
    "fdata.head()"
   ]
  },
  {
   "cell_type": "code",
   "execution_count": 3,
   "metadata": {},
   "outputs": [
    {
     "data": {
      "text/plain": [
       "year                int64\n",
       "month               int64\n",
       "day                 int64\n",
       "dep_time          float64\n",
       "sched_dep_time      int64\n",
       "dep_delay         float64\n",
       "arr_time          float64\n",
       "sched_arr_time      int64\n",
       "arr_delay         float64\n",
       "carrier            object\n",
       "flight              int64\n",
       "tailnum            object\n",
       "origin             object\n",
       "dest               object\n",
       "air_time          float64\n",
       "distance            int64\n",
       "hour                int64\n",
       "minute              int64\n",
       "time_hour          object\n",
       "dtype: object"
      ]
     },
     "execution_count": 3,
     "metadata": {},
     "output_type": "execute_result"
    }
   ],
   "source": [
    "fdata.dtypes"
   ]
  },
  {
   "cell_type": "code",
   "execution_count": 4,
   "metadata": {},
   "outputs": [
    {
     "data": {
      "text/plain": [
       "<bound method DataFrame.count of         year  month  day  dep_time  sched_dep_time  dep_delay  arr_time  \\\n",
       "0       2013      1    1     517.0             515        2.0     830.0   \n",
       "1       2013      1    1     533.0             529        4.0     850.0   \n",
       "2       2013      1    1     542.0             540        2.0     923.0   \n",
       "3       2013      1    1     544.0             545       -1.0    1004.0   \n",
       "4       2013      1    1     554.0             600       -6.0     812.0   \n",
       "5       2013      1    1     554.0             558       -4.0     740.0   \n",
       "6       2013      1    1     555.0             600       -5.0     913.0   \n",
       "7       2013      1    1     557.0             600       -3.0     709.0   \n",
       "8       2013      1    1     557.0             600       -3.0     838.0   \n",
       "9       2013      1    1     558.0             600       -2.0     753.0   \n",
       "10      2013      1    1     558.0             600       -2.0     849.0   \n",
       "11      2013      1    1     558.0             600       -2.0     853.0   \n",
       "12      2013      1    1     558.0             600       -2.0     924.0   \n",
       "13      2013      1    1     558.0             600       -2.0     923.0   \n",
       "14      2013      1    1     559.0             600       -1.0     941.0   \n",
       "15      2013      1    1     559.0             559        0.0     702.0   \n",
       "16      2013      1    1     559.0             600       -1.0     854.0   \n",
       "17      2013      1    1     600.0             600        0.0     851.0   \n",
       "18      2013      1    1     600.0             600        0.0     837.0   \n",
       "19      2013      1    1     601.0             600        1.0     844.0   \n",
       "20      2013      1    1     602.0             610       -8.0     812.0   \n",
       "21      2013      1    1     602.0             605       -3.0     821.0   \n",
       "22      2013      1    1     606.0             610       -4.0     858.0   \n",
       "23      2013      1    1     606.0             610       -4.0     837.0   \n",
       "24      2013      1    1     607.0             607        0.0     858.0   \n",
       "25      2013      1    1     608.0             600        8.0     807.0   \n",
       "26      2013      1    1     611.0             600       11.0     945.0   \n",
       "27      2013      1    1     613.0             610        3.0     925.0   \n",
       "28      2013      1    1     615.0             615        0.0    1039.0   \n",
       "29      2013      1    1     615.0             615        0.0     833.0   \n",
       "...      ...    ...  ...       ...             ...        ...       ...   \n",
       "336746  2013      9   30    2123.0            2125       -2.0    2223.0   \n",
       "336747  2013      9   30    2127.0            2129       -2.0    2314.0   \n",
       "336748  2013      9   30    2128.0            2130       -2.0    2328.0   \n",
       "336749  2013      9   30    2129.0            2059       30.0    2230.0   \n",
       "336750  2013      9   30    2131.0            2140       -9.0    2225.0   \n",
       "336751  2013      9   30    2140.0            2140        0.0      10.0   \n",
       "336752  2013      9   30    2142.0            2129       13.0    2250.0   \n",
       "336753  2013      9   30    2145.0            2145        0.0     115.0   \n",
       "336754  2013      9   30    2147.0            2137       10.0      30.0   \n",
       "336755  2013      9   30    2149.0            2156       -7.0    2245.0   \n",
       "336756  2013      9   30    2150.0            2159       -9.0    2250.0   \n",
       "336757  2013      9   30    2159.0            1845      194.0    2344.0   \n",
       "336758  2013      9   30    2203.0            2205       -2.0    2339.0   \n",
       "336759  2013      9   30    2207.0            2140       27.0    2257.0   \n",
       "336760  2013      9   30    2211.0            2059       72.0    2339.0   \n",
       "336761  2013      9   30    2231.0            2245      -14.0    2335.0   \n",
       "336762  2013      9   30    2233.0            2113       80.0     112.0   \n",
       "336763  2013      9   30    2235.0            2001      154.0      59.0   \n",
       "336764  2013      9   30    2237.0            2245       -8.0    2345.0   \n",
       "336765  2013      9   30    2240.0            2245       -5.0    2334.0   \n",
       "336766  2013      9   30    2240.0            2250      -10.0    2347.0   \n",
       "336767  2013      9   30    2241.0            2246       -5.0    2345.0   \n",
       "336768  2013      9   30    2307.0            2255       12.0    2359.0   \n",
       "336769  2013      9   30    2349.0            2359      -10.0     325.0   \n",
       "336770  2013      9   30       NaN            1842        NaN       NaN   \n",
       "336771  2013      9   30       NaN            1455        NaN       NaN   \n",
       "336772  2013      9   30       NaN            2200        NaN       NaN   \n",
       "336773  2013      9   30       NaN            1210        NaN       NaN   \n",
       "336774  2013      9   30       NaN            1159        NaN       NaN   \n",
       "336775  2013      9   30       NaN             840        NaN       NaN   \n",
       "\n",
       "        sched_arr_time  arr_delay carrier  flight tailnum origin dest  \\\n",
       "0                  819       11.0      UA    1545  N14228    EWR  IAH   \n",
       "1                  830       20.0      UA    1714  N24211    LGA  IAH   \n",
       "2                  850       33.0      AA    1141  N619AA    JFK  MIA   \n",
       "3                 1022      -18.0      B6     725  N804JB    JFK  BQN   \n",
       "4                  837      -25.0      DL     461  N668DN    LGA  ATL   \n",
       "5                  728       12.0      UA    1696  N39463    EWR  ORD   \n",
       "6                  854       19.0      B6     507  N516JB    EWR  FLL   \n",
       "7                  723      -14.0      EV    5708  N829AS    LGA  IAD   \n",
       "8                  846       -8.0      B6      79  N593JB    JFK  MCO   \n",
       "9                  745        8.0      AA     301  N3ALAA    LGA  ORD   \n",
       "10                 851       -2.0      B6      49  N793JB    JFK  PBI   \n",
       "11                 856       -3.0      B6      71  N657JB    JFK  TPA   \n",
       "12                 917        7.0      UA     194  N29129    JFK  LAX   \n",
       "13                 937      -14.0      UA    1124  N53441    EWR  SFO   \n",
       "14                 910       31.0      AA     707  N3DUAA    LGA  DFW   \n",
       "15                 706       -4.0      B6    1806  N708JB    JFK  BOS   \n",
       "16                 902       -8.0      UA    1187  N76515    EWR  LAS   \n",
       "17                 858       -7.0      B6     371  N595JB    LGA  FLL   \n",
       "18                 825       12.0      MQ    4650  N542MQ    LGA  ATL   \n",
       "19                 850       -6.0      B6     343  N644JB    EWR  PBI   \n",
       "20                 820       -8.0      DL    1919  N971DL    LGA  MSP   \n",
       "21                 805       16.0      MQ    4401  N730MQ    LGA  DTW   \n",
       "22                 910      -12.0      AA    1895  N633AA    EWR  MIA   \n",
       "23                 845       -8.0      DL    1743  N3739P    JFK  ATL   \n",
       "24                 915      -17.0      UA    1077  N53442    EWR  MIA   \n",
       "25                 735       32.0      MQ    3768  N9EAMQ    EWR  ORD   \n",
       "26                 931       14.0      UA     303  N532UA    JFK  SFO   \n",
       "27                 921        4.0      B6     135  N635JB    JFK  RSW   \n",
       "28                1100      -21.0      B6     709  N794JB    JFK  SJU   \n",
       "29                 842       -9.0      DL     575  N326NB    EWR  ATL   \n",
       "...                ...        ...     ...     ...     ...    ...  ...   \n",
       "336746            2247      -24.0      EV    5489  N712EV    LGA  CHO   \n",
       "336747            2323       -9.0      EV    3833  N16546    EWR  CLT   \n",
       "336748            2359      -31.0      B6      97  N807JB    JFK  DEN   \n",
       "336749            2232       -2.0      EV    5048  N751EV    LGA  RIC   \n",
       "336750            2255      -30.0      MQ    3621  N807MQ    JFK  DCA   \n",
       "336751              40      -30.0      AA     185  N335AA    JFK  LAX   \n",
       "336752            2239       11.0      EV    4509  N12957    EWR  PWM   \n",
       "336753             140      -25.0      B6    1103  N633JB    JFK  SJU   \n",
       "336754              27        3.0      B6    1371  N627JB    LGA  FLL   \n",
       "336755            2308      -23.0      UA     523  N813UA    EWR  BOS   \n",
       "336756            2306      -16.0      EV    3842  N10575    EWR  MHT   \n",
       "336757            2030      194.0      9E    3320  N906XJ    JFK  BUF   \n",
       "336758            2331        8.0      EV    5311  N722EV    LGA  BGR   \n",
       "336759            2250        7.0      MQ    3660  N532MQ    LGA  BNA   \n",
       "336760            2242       57.0      EV    4672  N12145    EWR  STL   \n",
       "336761            2356      -21.0      B6     108  N193JB    JFK  PWM   \n",
       "336762              30       42.0      UA     471  N578UA    EWR  SFO   \n",
       "336763            2249      130.0      B6    1083  N804JB    JFK  MCO   \n",
       "336764            2353       -8.0      B6     234  N318JB    JFK  BTV   \n",
       "336765            2351      -17.0      B6    1816  N354JB    JFK  SYR   \n",
       "336766               7      -20.0      B6    2002  N281JB    JFK  BUF   \n",
       "336767               1      -16.0      B6     486  N346JB    JFK  ROC   \n",
       "336768            2358        1.0      B6     718  N565JB    JFK  BOS   \n",
       "336769             350      -25.0      B6     745  N516JB    JFK  PSE   \n",
       "336770            2019        NaN      EV    5274  N740EV    LGA  BNA   \n",
       "336771            1634        NaN      9E    3393     NaN    JFK  DCA   \n",
       "336772            2312        NaN      9E    3525     NaN    LGA  SYR   \n",
       "336773            1330        NaN      MQ    3461  N535MQ    LGA  BNA   \n",
       "336774            1344        NaN      MQ    3572  N511MQ    LGA  CLE   \n",
       "336775            1020        NaN      MQ    3531  N839MQ    LGA  RDU   \n",
       "\n",
       "        air_time  distance  hour  minute         time_hour  \n",
       "0          227.0      1400     5      15  01-01-2013 05:00  \n",
       "1          227.0      1416     5      29  01-01-2013 05:00  \n",
       "2          160.0      1089     5      40  01-01-2013 05:00  \n",
       "3          183.0      1576     5      45  01-01-2013 05:00  \n",
       "4          116.0       762     6       0  01-01-2013 06:00  \n",
       "5          150.0       719     5      58  01-01-2013 05:00  \n",
       "6          158.0      1065     6       0  01-01-2013 06:00  \n",
       "7           53.0       229     6       0  01-01-2013 06:00  \n",
       "8          140.0       944     6       0  01-01-2013 06:00  \n",
       "9          138.0       733     6       0  01-01-2013 06:00  \n",
       "10         149.0      1028     6       0  01-01-2013 06:00  \n",
       "11         158.0      1005     6       0  01-01-2013 06:00  \n",
       "12         345.0      2475     6       0  01-01-2013 06:00  \n",
       "13         361.0      2565     6       0  01-01-2013 06:00  \n",
       "14         257.0      1389     6       0  01-01-2013 06:00  \n",
       "15          44.0       187     5      59  01-01-2013 05:00  \n",
       "16         337.0      2227     6       0  01-01-2013 06:00  \n",
       "17         152.0      1076     6       0  01-01-2013 06:00  \n",
       "18         134.0       762     6       0  01-01-2013 06:00  \n",
       "19         147.0      1023     6       0  01-01-2013 06:00  \n",
       "20         170.0      1020     6      10  01-01-2013 06:00  \n",
       "21         105.0       502     6       5  01-01-2013 06:00  \n",
       "22         152.0      1085     6      10  01-01-2013 06:00  \n",
       "23         128.0       760     6      10  01-01-2013 06:00  \n",
       "24         157.0      1085     6       7  01-01-2013 06:00  \n",
       "25         139.0       719     6       0  01-01-2013 06:00  \n",
       "26         366.0      2586     6       0  01-01-2013 06:00  \n",
       "27         175.0      1074     6      10  01-01-2013 06:00  \n",
       "28         182.0      1598     6      15  01-01-2013 06:00  \n",
       "29         120.0       746     6      15  01-01-2013 06:00  \n",
       "...          ...       ...   ...     ...               ...  \n",
       "336746      45.0       305    21      25  30-09-2013 21:00  \n",
       "336747      72.0       529    21      29  30-09-2013 21:00  \n",
       "336748     213.0      1626    21      30  30-09-2013 21:00  \n",
       "336749      45.0       292    20      59  30-09-2013 20:00  \n",
       "336750      36.0       213    21      40  30-09-2013 21:00  \n",
       "336751     298.0      2475    21      40  30-09-2013 21:00  \n",
       "336752      47.0       284    21      29  30-09-2013 21:00  \n",
       "336753     192.0      1598    21      45  30-09-2013 21:00  \n",
       "336754     139.0      1076    21      37  30-09-2013 21:00  \n",
       "336755      37.0       200    21      56  30-09-2013 21:00  \n",
       "336756      39.0       209    21      59  30-09-2013 21:00  \n",
       "336757      50.0       301    18      45  30-09-2013 18:00  \n",
       "336758      61.0       378    22       5  30-09-2013 22:00  \n",
       "336759      97.0       764    21      40  30-09-2013 21:00  \n",
       "336760     120.0       872    20      59  30-09-2013 20:00  \n",
       "336761      48.0       273    22      45  30-09-2013 22:00  \n",
       "336762     318.0      2565    21      13  30-09-2013 21:00  \n",
       "336763     123.0       944    20       1  30-09-2013 20:00  \n",
       "336764      43.0       266    22      45  30-09-2013 22:00  \n",
       "336765      41.0       209    22      45  30-09-2013 22:00  \n",
       "336766      52.0       301    22      50  30-09-2013 22:00  \n",
       "336767      47.0       264    22      46  30-09-2013 22:00  \n",
       "336768      33.0       187    22      55  30-09-2013 22:00  \n",
       "336769     196.0      1617    23      59  30-09-2013 23:00  \n",
       "336770       NaN       764    18      42  30-09-2013 18:00  \n",
       "336771       NaN       213    14      55  30-09-2013 14:00  \n",
       "336772       NaN       198    22       0  30-09-2013 22:00  \n",
       "336773       NaN       764    12      10  30-09-2013 12:00  \n",
       "336774       NaN       419    11      59  30-09-2013 11:00  \n",
       "336775       NaN       431     8      40  30-09-2013 08:00  \n",
       "\n",
       "[336776 rows x 19 columns]>"
      ]
     },
     "execution_count": 4,
     "metadata": {},
     "output_type": "execute_result"
    }
   ],
   "source": [
    "fdata.count"
   ]
  },
  {
   "cell_type": "markdown",
   "metadata": {},
   "source": [
    "# Note :\n",
    "1. If a column contains numbers and NaNs pandas will default to float64, in case your missing value has a decimal.\n",
    "2. This means that our flight_dataset may contain null values and we need to remove them "
   ]
  },
  {
   "cell_type": "markdown",
   "metadata": {},
   "source": [
    "# Check Null Values in Dataset  : \n",
    "\n"
   ]
  },
  {
   "cell_type": "markdown",
   "metadata": {},
   "source": [
    "Total Number of rows in Dataset :"
   ]
  },
  {
   "cell_type": "code",
   "execution_count": 8,
   "metadata": {},
   "outputs": [
    {
     "data": {
      "text/plain": [
       "year              336776\n",
       "month             336776\n",
       "day               336776\n",
       "dep_time          336776\n",
       "sched_dep_time    336776\n",
       "dep_delay         336776\n",
       "arr_time          336776\n",
       "sched_arr_time    336776\n",
       "arr_delay         336776\n",
       "carrier           336776\n",
       "flight            336776\n",
       "tailnum           336776\n",
       "origin            336776\n",
       "dest              336776\n",
       "air_time          336776\n",
       "distance          336776\n",
       "hour              336776\n",
       "minute            336776\n",
       "time_hour         336776\n",
       "dtype: int64"
      ]
     },
     "execution_count": 8,
     "metadata": {},
     "output_type": "execute_result"
    }
   ],
   "source": [
    "fdata.isnull().count()"
   ]
  },
  {
   "cell_type": "markdown",
   "metadata": {},
   "source": [
    "Does our data have null values ?? "
   ]
  },
  {
   "cell_type": "code",
   "execution_count": 9,
   "metadata": {},
   "outputs": [
    {
     "data": {
      "text/plain": [
       "True"
      ]
     },
     "execution_count": 9,
     "metadata": {},
     "output_type": "execute_result"
    }
   ],
   "source": [
    "fdata.isnull().values.any()"
   ]
  },
  {
   "cell_type": "markdown",
   "metadata": {},
   "source": [
    "Total Number of Null Values :"
   ]
  },
  {
   "cell_type": "code",
   "execution_count": 10,
   "metadata": {},
   "outputs": [
    {
     "data": {
      "text/plain": [
       "year                 0\n",
       "month                0\n",
       "day                  0\n",
       "dep_time          8255\n",
       "sched_dep_time       0\n",
       "dep_delay         8255\n",
       "arr_time          8713\n",
       "sched_arr_time       0\n",
       "arr_delay         9430\n",
       "carrier              0\n",
       "flight               0\n",
       "tailnum           2512\n",
       "origin               0\n",
       "dest                 0\n",
       "air_time          9430\n",
       "distance             0\n",
       "hour                 0\n",
       "minute               0\n",
       "time_hour            0\n",
       "dtype: int64"
      ]
     },
     "execution_count": 10,
     "metadata": {},
     "output_type": "execute_result"
    }
   ],
   "source": [
    "fdata.isnull().sum()"
   ]
  },
  {
   "cell_type": "markdown",
   "metadata": {},
   "source": [
    "# Analysis of Null Values:\n",
    "1. All sched_dep_time & sched_arr_time of flights are available but for some flights data for actual dep_time & arr_time of flights is NOT available.\n",
    "2. count of arr_time is more compared to dep_time, which means these flights were departed but dep_time data is missing. -- Need to figure out how we can calculate this?\n",
    "3. Rest all flights whose arr_time & dep_time is missing we can ignore (drop) this data rows.\n"
   ]
  },
  {
   "cell_type": "code",
   "execution_count": 11,
   "metadata": {},
   "outputs": [
    {
     "data": {
      "text/plain": [
       "458"
      ]
     },
     "execution_count": 11,
     "metadata": {},
     "output_type": "execute_result"
    }
   ],
   "source": [
    "fdata['arr_time'].isnull().sum() - fdata['dep_time'].isnull().sum()"
   ]
  },
  {
   "cell_type": "markdown",
   "metadata": {
    "scrolled": false
   },
   "source": [
    "* There are 458 Flights for which arrival time is NOT available but departure time is available. These are valid number of flights where dep_time data is missing. -- Keep these rows\n"
   ]
  },
  {
   "cell_type": "markdown",
   "metadata": {},
   "source": [
    "Next Find Total rows in which both dep_time & arr_time are Null (Missing)"
   ]
  },
  {
   "cell_type": "code",
   "execution_count": 12,
   "metadata": {},
   "outputs": [
    {
     "data": {
      "text/plain": [
       "8255"
      ]
     },
     "execution_count": 12,
     "metadata": {},
     "output_type": "execute_result"
    }
   ],
   "source": [
    "len(fdata[fdata['arr_time'].isnull() & fdata['dep_time'].isnull()])"
   ]
  },
  {
   "cell_type": "markdown",
   "metadata": {},
   "source": [
    "* We can drop above rows "
   ]
  },
  {
   "cell_type": "code",
   "execution_count": 16,
   "metadata": {},
   "outputs": [
    {
     "data": {
      "text/plain": [
       "336776"
      ]
     },
     "execution_count": 16,
     "metadata": {},
     "output_type": "execute_result"
    }
   ],
   "source": [
    "len(fdata)"
   ]
  },
  {
   "cell_type": "code",
   "execution_count": 20,
   "metadata": {
    "scrolled": false
   },
   "outputs": [],
   "source": [
    "fdata.dropna(subset=['dep_time', 'arr_time'], how='all',inplace=True)"
   ]
  },
  {
   "cell_type": "markdown",
   "metadata": {},
   "source": []
  },
  {
   "cell_type": "code",
   "execution_count": 21,
   "metadata": {},
   "outputs": [
    {
     "data": {
      "text/plain": [
       "(328521, 19)"
      ]
     },
     "execution_count": 21,
     "metadata": {},
     "output_type": "execute_result"
    }
   ],
   "source": [
    "fdata.shape\n"
   ]
  },
  {
   "cell_type": "markdown",
   "metadata": {},
   "source": [
    "#  Exploration ideas : \n",
    "# 1. <U> Departure Delays "
   ]
  },
  {
   "cell_type": "code",
   "execution_count": 25,
   "metadata": {},
   "outputs": [
    {
     "data": {
      "text/plain": [
       "1301.0"
      ]
     },
     "execution_count": 25,
     "metadata": {},
     "output_type": "execute_result"
    }
   ],
   "source": [
    "fdata['dep_delay'].max()"
   ]
  },
  {
   "cell_type": "code",
   "execution_count": 26,
   "metadata": {},
   "outputs": [
    {
     "data": {
      "text/plain": [
       "year                          2013\n",
       "month                           12\n",
       "day                             31\n",
       "dep_time                      2400\n",
       "sched_dep_time                2359\n",
       "dep_delay                     1301\n",
       "arr_time                      2400\n",
       "sched_arr_time                2359\n",
       "arr_delay                     1272\n",
       "carrier                         YV\n",
       "flight                        8500\n",
       "tailnum                     N9EAMQ\n",
       "origin                         LGA\n",
       "dest                           XNA\n",
       "air_time                       695\n",
       "distance                      4983\n",
       "hour                            23\n",
       "minute                          59\n",
       "time_hour         31-12-2013 23:00\n",
       "dtype: object"
      ]
     },
     "execution_count": 26,
     "metadata": {},
     "output_type": "execute_result"
    }
   ],
   "source": [
    "fdata[fdata['dep_delay']==fdata['dep_delay']].max()\n"
   ]
  },
  {
   "cell_type": "markdown",
   "metadata": {},
   "source": [
    "# Convert time into HH:MM"
   ]
  },
  {
   "cell_type": "code",
   "execution_count": null,
   "metadata": {},
   "outputs": [],
   "source": []
  },
  {
   "cell_type": "code",
   "execution_count": null,
   "metadata": {},
   "outputs": [],
   "source": []
  },
  {
   "cell_type": "code",
   "execution_count": null,
   "metadata": {},
   "outputs": [],
   "source": []
  },
  {
   "cell_type": "code",
   "execution_count": null,
   "metadata": {},
   "outputs": [],
   "source": []
  },
  {
   "cell_type": "code",
   "execution_count": null,
   "metadata": {},
   "outputs": [],
   "source": []
  },
  {
   "cell_type": "code",
   "execution_count": null,
   "metadata": {
    "collapsed": true
   },
   "outputs": [],
   "source": []
  }
 ],
 "metadata": {
  "kernelspec": {
   "display_name": "Python 3",
   "language": "python",
   "name": "python3"
  },
  "language_info": {
   "codemirror_mode": {
    "name": "ipython",
    "version": 3
   },
   "file_extension": ".py",
   "mimetype": "text/x-python",
   "name": "python",
   "nbconvert_exporter": "python",
   "pygments_lexer": "ipython3",
   "version": "3.6.3"
  }
 },
 "nbformat": 4,
 "nbformat_minor": 2
}
