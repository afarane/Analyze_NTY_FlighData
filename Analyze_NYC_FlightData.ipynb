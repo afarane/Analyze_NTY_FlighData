{
 "cells": [
  {
   "cell_type": "code",
   "execution_count": 1,
   "metadata": {
    "collapsed": true
   },
   "outputs": [],
   "source": [
    "import pandas as pd\n",
    "import numpy as np"
   ]
  },
  {
   "cell_type": "code",
   "execution_count": 2,
   "metadata": {},
   "outputs": [
    {
     "data": {
      "text/html": [
       "<div>\n",
       "<style>\n",
       "    .dataframe thead tr:only-child th {\n",
       "        text-align: right;\n",
       "    }\n",
       "\n",
       "    .dataframe thead th {\n",
       "        text-align: left;\n",
       "    }\n",
       "\n",
       "    .dataframe tbody tr th {\n",
       "        vertical-align: top;\n",
       "    }\n",
       "</style>\n",
       "<table border=\"1\" class=\"dataframe\">\n",
       "  <thead>\n",
       "    <tr style=\"text-align: right;\">\n",
       "      <th></th>\n",
       "      <th>year</th>\n",
       "      <th>month</th>\n",
       "      <th>day</th>\n",
       "      <th>dep_time</th>\n",
       "      <th>sched_dep_time</th>\n",
       "      <th>dep_delay</th>\n",
       "      <th>arr_time</th>\n",
       "      <th>sched_arr_time</th>\n",
       "      <th>arr_delay</th>\n",
       "      <th>carrier</th>\n",
       "      <th>flight</th>\n",
       "      <th>tailnum</th>\n",
       "      <th>origin</th>\n",
       "      <th>dest</th>\n",
       "      <th>air_time</th>\n",
       "      <th>distance</th>\n",
       "      <th>hour</th>\n",
       "      <th>minute</th>\n",
       "      <th>time_hour</th>\n",
       "    </tr>\n",
       "  </thead>\n",
       "  <tbody>\n",
       "    <tr>\n",
       "      <th>0</th>\n",
       "      <td>2013</td>\n",
       "      <td>1</td>\n",
       "      <td>1</td>\n",
       "      <td>517.0</td>\n",
       "      <td>515</td>\n",
       "      <td>2.0</td>\n",
       "      <td>830.0</td>\n",
       "      <td>819</td>\n",
       "      <td>11.0</td>\n",
       "      <td>UA</td>\n",
       "      <td>1545</td>\n",
       "      <td>N14228</td>\n",
       "      <td>EWR</td>\n",
       "      <td>IAH</td>\n",
       "      <td>227.0</td>\n",
       "      <td>1400</td>\n",
       "      <td>5</td>\n",
       "      <td>15</td>\n",
       "      <td>01-01-2013 05:00</td>\n",
       "    </tr>\n",
       "    <tr>\n",
       "      <th>1</th>\n",
       "      <td>2013</td>\n",
       "      <td>1</td>\n",
       "      <td>1</td>\n",
       "      <td>533.0</td>\n",
       "      <td>529</td>\n",
       "      <td>4.0</td>\n",
       "      <td>850.0</td>\n",
       "      <td>830</td>\n",
       "      <td>20.0</td>\n",
       "      <td>UA</td>\n",
       "      <td>1714</td>\n",
       "      <td>N24211</td>\n",
       "      <td>LGA</td>\n",
       "      <td>IAH</td>\n",
       "      <td>227.0</td>\n",
       "      <td>1416</td>\n",
       "      <td>5</td>\n",
       "      <td>29</td>\n",
       "      <td>01-01-2013 05:00</td>\n",
       "    </tr>\n",
       "    <tr>\n",
       "      <th>2</th>\n",
       "      <td>2013</td>\n",
       "      <td>1</td>\n",
       "      <td>1</td>\n",
       "      <td>542.0</td>\n",
       "      <td>540</td>\n",
       "      <td>2.0</td>\n",
       "      <td>923.0</td>\n",
       "      <td>850</td>\n",
       "      <td>33.0</td>\n",
       "      <td>AA</td>\n",
       "      <td>1141</td>\n",
       "      <td>N619AA</td>\n",
       "      <td>JFK</td>\n",
       "      <td>MIA</td>\n",
       "      <td>160.0</td>\n",
       "      <td>1089</td>\n",
       "      <td>5</td>\n",
       "      <td>40</td>\n",
       "      <td>01-01-2013 05:00</td>\n",
       "    </tr>\n",
       "    <tr>\n",
       "      <th>3</th>\n",
       "      <td>2013</td>\n",
       "      <td>1</td>\n",
       "      <td>1</td>\n",
       "      <td>544.0</td>\n",
       "      <td>545</td>\n",
       "      <td>-1.0</td>\n",
       "      <td>1004.0</td>\n",
       "      <td>1022</td>\n",
       "      <td>-18.0</td>\n",
       "      <td>B6</td>\n",
       "      <td>725</td>\n",
       "      <td>N804JB</td>\n",
       "      <td>JFK</td>\n",
       "      <td>BQN</td>\n",
       "      <td>183.0</td>\n",
       "      <td>1576</td>\n",
       "      <td>5</td>\n",
       "      <td>45</td>\n",
       "      <td>01-01-2013 05:00</td>\n",
       "    </tr>\n",
       "    <tr>\n",
       "      <th>4</th>\n",
       "      <td>2013</td>\n",
       "      <td>1</td>\n",
       "      <td>1</td>\n",
       "      <td>554.0</td>\n",
       "      <td>600</td>\n",
       "      <td>-6.0</td>\n",
       "      <td>812.0</td>\n",
       "      <td>837</td>\n",
       "      <td>-25.0</td>\n",
       "      <td>DL</td>\n",
       "      <td>461</td>\n",
       "      <td>N668DN</td>\n",
       "      <td>LGA</td>\n",
       "      <td>ATL</td>\n",
       "      <td>116.0</td>\n",
       "      <td>762</td>\n",
       "      <td>6</td>\n",
       "      <td>0</td>\n",
       "      <td>01-01-2013 06:00</td>\n",
       "    </tr>\n",
       "  </tbody>\n",
       "</table>\n",
       "</div>"
      ],
      "text/plain": [
       "   year  month  day  dep_time  sched_dep_time  dep_delay  arr_time  \\\n",
       "0  2013      1    1     517.0             515        2.0     830.0   \n",
       "1  2013      1    1     533.0             529        4.0     850.0   \n",
       "2  2013      1    1     542.0             540        2.0     923.0   \n",
       "3  2013      1    1     544.0             545       -1.0    1004.0   \n",
       "4  2013      1    1     554.0             600       -6.0     812.0   \n",
       "\n",
       "   sched_arr_time  arr_delay carrier  flight tailnum origin dest  air_time  \\\n",
       "0             819       11.0      UA    1545  N14228    EWR  IAH     227.0   \n",
       "1             830       20.0      UA    1714  N24211    LGA  IAH     227.0   \n",
       "2             850       33.0      AA    1141  N619AA    JFK  MIA     160.0   \n",
       "3            1022      -18.0      B6     725  N804JB    JFK  BQN     183.0   \n",
       "4             837      -25.0      DL     461  N668DN    LGA  ATL     116.0   \n",
       "\n",
       "   distance  hour  minute         time_hour  \n",
       "0      1400     5      15  01-01-2013 05:00  \n",
       "1      1416     5      29  01-01-2013 05:00  \n",
       "2      1089     5      40  01-01-2013 05:00  \n",
       "3      1576     5      45  01-01-2013 05:00  \n",
       "4       762     6       0  01-01-2013 06:00  "
      ]
     },
     "execution_count": 2,
     "metadata": {},
     "output_type": "execute_result"
    }
   ],
   "source": [
    "fdata = pd.read_csv('flight_data.csv')\n",
    "fdata.head()"
   ]
  },
  {
   "cell_type": "code",
   "execution_count": 3,
   "metadata": {},
   "outputs": [
    {
     "data": {
      "text/plain": [
       "year                int64\n",
       "month               int64\n",
       "day                 int64\n",
       "dep_time          float64\n",
       "sched_dep_time      int64\n",
       "dep_delay         float64\n",
       "arr_time          float64\n",
       "sched_arr_time      int64\n",
       "arr_delay         float64\n",
       "carrier            object\n",
       "flight              int64\n",
       "tailnum            object\n",
       "origin             object\n",
       "dest               object\n",
       "air_time          float64\n",
       "distance            int64\n",
       "hour                int64\n",
       "minute              int64\n",
       "time_hour          object\n",
       "dtype: object"
      ]
     },
     "execution_count": 3,
     "metadata": {},
     "output_type": "execute_result"
    }
   ],
   "source": [
    "fdata.dtypes"
   ]
  },
  {
   "cell_type": "markdown",
   "metadata": {},
   "source": [
    "# Note :\n",
    "1. If a column contains numbers and NaNs pandas will default to float64, in case your missing value has a decimal.\n",
    "2. This means that our flight_dataset contains null values and we need to remove them "
   ]
  },
  {
   "cell_type": "markdown",
   "metadata": {},
   "source": [
    "# How to Check Null Values in Dataset ? : \n",
    "\n",
    "[Ref Link https://chartio.com/resources/tutorials/how-to-check-if-any-value-is-nan-in-a-pandas-dataframe/ ]"
   ]
  },
  {
   "cell_type": "code",
   "execution_count": 4,
   "metadata": {},
   "outputs": [
    {
     "data": {
      "text/plain": [
       "336776"
      ]
     },
     "execution_count": 4,
     "metadata": {},
     "output_type": "execute_result"
    }
   ],
   "source": [
    "len(fdata)"
   ]
  },
  {
   "cell_type": "code",
   "execution_count": 5,
   "metadata": {},
   "outputs": [
    {
     "data": {
      "text/plain": [
       "year              336776\n",
       "month             336776\n",
       "day               336776\n",
       "dep_time          336776\n",
       "sched_dep_time    336776\n",
       "dep_delay         336776\n",
       "arr_time          336776\n",
       "sched_arr_time    336776\n",
       "arr_delay         336776\n",
       "carrier           336776\n",
       "flight            336776\n",
       "tailnum           336776\n",
       "origin            336776\n",
       "dest              336776\n",
       "air_time          336776\n",
       "distance          336776\n",
       "hour              336776\n",
       "minute            336776\n",
       "time_hour         336776\n",
       "dtype: int64"
      ]
     },
     "execution_count": 5,
     "metadata": {},
     "output_type": "execute_result"
    }
   ],
   "source": [
    "fdata.isnull().count()\n"
   ]
  },
  {
   "cell_type": "code",
   "execution_count": 6,
   "metadata": {},
   "outputs": [
    {
     "data": {
      "text/plain": [
       "year              336776\n",
       "month             336776\n",
       "day               336776\n",
       "dep_time          328521\n",
       "sched_dep_time    336776\n",
       "dep_delay         328521\n",
       "arr_time          328063\n",
       "sched_arr_time    336776\n",
       "arr_delay         327346\n",
       "carrier           336776\n",
       "flight            336776\n",
       "tailnum           334264\n",
       "origin            336776\n",
       "dest              336776\n",
       "air_time          327346\n",
       "distance          336776\n",
       "hour              336776\n",
       "minute            336776\n",
       "time_hour         336776\n",
       "dtype: int64"
      ]
     },
     "execution_count": 6,
     "metadata": {},
     "output_type": "execute_result"
    }
   ],
   "source": [
    "fdata.count()"
   ]
  },
  {
   "cell_type": "code",
   "execution_count": 7,
   "metadata": {},
   "outputs": [
    {
     "data": {
      "text/plain": [
       "year                 0\n",
       "month                0\n",
       "day                  0\n",
       "dep_time          8255\n",
       "sched_dep_time       0\n",
       "dep_delay         8255\n",
       "arr_time          8713\n",
       "sched_arr_time       0\n",
       "arr_delay         9430\n",
       "carrier              0\n",
       "flight               0\n",
       "tailnum           2512\n",
       "origin               0\n",
       "dest                 0\n",
       "air_time          9430\n",
       "distance             0\n",
       "hour                 0\n",
       "minute               0\n",
       "time_hour            0\n",
       "dtype: int64"
      ]
     },
     "execution_count": 7,
     "metadata": {},
     "output_type": "execute_result"
    }
   ],
   "source": [
    "fdata.isnull().sum()"
   ]
  },
  {
   "cell_type": "markdown",
   "metadata": {},
   "source": [
    "# Check NAN  with Faster Method :"
   ]
  },
  {
   "cell_type": "code",
   "execution_count": 8,
   "metadata": {},
   "outputs": [
    {
     "name": "stdout",
     "output_type": "stream",
     "text": [
      "165 ms ± 7.83 ms per loop (mean ± std. dev. of 7 runs, 10 loops each)\n"
     ]
    }
   ],
   "source": [
    "%timeit fdata.isnull().sum().sum()\n"
   ]
  },
  {
   "cell_type": "code",
   "execution_count": 9,
   "metadata": {},
   "outputs": [
    {
     "name": "stdout",
     "output_type": "stream",
     "text": [
      "160 ms ± 13.3 ms per loop (mean ± std. dev. of 7 runs, 10 loops each)\n"
     ]
    }
   ],
   "source": [
    "%timeit fdata.isnull().any().any()"
   ]
  },
  {
   "cell_type": "code",
   "execution_count": 10,
   "metadata": {},
   "outputs": [
    {
     "name": "stdout",
     "output_type": "stream",
     "text": [
      "99.2 ms ± 5.51 ms per loop (mean ± std. dev. of 7 runs, 10 loops each)\n"
     ]
    }
   ],
   "source": [
    "%timeit fdata.isnull().values.sum()"
   ]
  },
  {
   "cell_type": "code",
   "execution_count": 11,
   "metadata": {},
   "outputs": [
    {
     "name": "stdout",
     "output_type": "stream",
     "text": [
      "91.8 ms ± 6.12 ms per loop (mean ± std. dev. of 7 runs, 10 loops each)\n"
     ]
    }
   ],
   "source": [
    "%timeit fdata.isnull().values.any()"
   ]
  },
  {
   "cell_type": "code",
   "execution_count": 12,
   "metadata": {},
   "outputs": [
    {
     "data": {
      "text/plain": [
       "True"
      ]
     },
     "execution_count": 12,
     "metadata": {},
     "output_type": "execute_result"
    }
   ],
   "source": [
    "fdata.isnull().any().any()"
   ]
  },
  {
   "cell_type": "code",
   "execution_count": 13,
   "metadata": {},
   "outputs": [
    {
     "data": {
      "text/plain": [
       "46595"
      ]
     },
     "execution_count": 13,
     "metadata": {},
     "output_type": "execute_result"
    }
   ],
   "source": [
    "fdata.isnull().values.sum()"
   ]
  },
  {
   "cell_type": "code",
   "execution_count": 14,
   "metadata": {},
   "outputs": [
    {
     "data": {
      "text/plain": [
       "46595"
      ]
     },
     "execution_count": 14,
     "metadata": {},
     "output_type": "execute_result"
    }
   ],
   "source": [
    "fdata.isnull().sum().sum()"
   ]
  },
  {
   "cell_type": "code",
   "execution_count": 15,
   "metadata": {},
   "outputs": [
    {
     "data": {
      "text/plain": [
       "True"
      ]
     },
     "execution_count": 15,
     "metadata": {},
     "output_type": "execute_result"
    }
   ],
   "source": [
    "fdata.isnull().values.any()"
   ]
  },
  {
   "cell_type": "markdown",
   "metadata": {},
   "source": [
    "# Which Data Column Contains Null/ NAN Values ? :"
   ]
  },
  {
   "cell_type": "code",
   "execution_count": 16,
   "metadata": {},
   "outputs": [
    {
     "data": {
      "text/plain": [
       "<bound method DataFrame.count of          year  month    day  dep_time  sched_dep_time  dep_delay  arr_time  \\\n",
       "0       False  False  False     False           False      False     False   \n",
       "1       False  False  False     False           False      False     False   \n",
       "2       False  False  False     False           False      False     False   \n",
       "3       False  False  False     False           False      False     False   \n",
       "4       False  False  False     False           False      False     False   \n",
       "5       False  False  False     False           False      False     False   \n",
       "6       False  False  False     False           False      False     False   \n",
       "7       False  False  False     False           False      False     False   \n",
       "8       False  False  False     False           False      False     False   \n",
       "9       False  False  False     False           False      False     False   \n",
       "10      False  False  False     False           False      False     False   \n",
       "11      False  False  False     False           False      False     False   \n",
       "12      False  False  False     False           False      False     False   \n",
       "13      False  False  False     False           False      False     False   \n",
       "14      False  False  False     False           False      False     False   \n",
       "15      False  False  False     False           False      False     False   \n",
       "16      False  False  False     False           False      False     False   \n",
       "17      False  False  False     False           False      False     False   \n",
       "18      False  False  False     False           False      False     False   \n",
       "19      False  False  False     False           False      False     False   \n",
       "20      False  False  False     False           False      False     False   \n",
       "21      False  False  False     False           False      False     False   \n",
       "22      False  False  False     False           False      False     False   \n",
       "23      False  False  False     False           False      False     False   \n",
       "24      False  False  False     False           False      False     False   \n",
       "25      False  False  False     False           False      False     False   \n",
       "26      False  False  False     False           False      False     False   \n",
       "27      False  False  False     False           False      False     False   \n",
       "28      False  False  False     False           False      False     False   \n",
       "29      False  False  False     False           False      False     False   \n",
       "...       ...    ...    ...       ...             ...        ...       ...   \n",
       "336746  False  False  False     False           False      False     False   \n",
       "336747  False  False  False     False           False      False     False   \n",
       "336748  False  False  False     False           False      False     False   \n",
       "336749  False  False  False     False           False      False     False   \n",
       "336750  False  False  False     False           False      False     False   \n",
       "336751  False  False  False     False           False      False     False   \n",
       "336752  False  False  False     False           False      False     False   \n",
       "336753  False  False  False     False           False      False     False   \n",
       "336754  False  False  False     False           False      False     False   \n",
       "336755  False  False  False     False           False      False     False   \n",
       "336756  False  False  False     False           False      False     False   \n",
       "336757  False  False  False     False           False      False     False   \n",
       "336758  False  False  False     False           False      False     False   \n",
       "336759  False  False  False     False           False      False     False   \n",
       "336760  False  False  False     False           False      False     False   \n",
       "336761  False  False  False     False           False      False     False   \n",
       "336762  False  False  False     False           False      False     False   \n",
       "336763  False  False  False     False           False      False     False   \n",
       "336764  False  False  False     False           False      False     False   \n",
       "336765  False  False  False     False           False      False     False   \n",
       "336766  False  False  False     False           False      False     False   \n",
       "336767  False  False  False     False           False      False     False   \n",
       "336768  False  False  False     False           False      False     False   \n",
       "336769  False  False  False     False           False      False     False   \n",
       "336770  False  False  False      True           False       True      True   \n",
       "336771  False  False  False      True           False       True      True   \n",
       "336772  False  False  False      True           False       True      True   \n",
       "336773  False  False  False      True           False       True      True   \n",
       "336774  False  False  False      True           False       True      True   \n",
       "336775  False  False  False      True           False       True      True   \n",
       "\n",
       "        sched_arr_time  arr_delay  carrier  flight  tailnum  origin   dest  \\\n",
       "0                False      False    False   False    False   False  False   \n",
       "1                False      False    False   False    False   False  False   \n",
       "2                False      False    False   False    False   False  False   \n",
       "3                False      False    False   False    False   False  False   \n",
       "4                False      False    False   False    False   False  False   \n",
       "5                False      False    False   False    False   False  False   \n",
       "6                False      False    False   False    False   False  False   \n",
       "7                False      False    False   False    False   False  False   \n",
       "8                False      False    False   False    False   False  False   \n",
       "9                False      False    False   False    False   False  False   \n",
       "10               False      False    False   False    False   False  False   \n",
       "11               False      False    False   False    False   False  False   \n",
       "12               False      False    False   False    False   False  False   \n",
       "13               False      False    False   False    False   False  False   \n",
       "14               False      False    False   False    False   False  False   \n",
       "15               False      False    False   False    False   False  False   \n",
       "16               False      False    False   False    False   False  False   \n",
       "17               False      False    False   False    False   False  False   \n",
       "18               False      False    False   False    False   False  False   \n",
       "19               False      False    False   False    False   False  False   \n",
       "20               False      False    False   False    False   False  False   \n",
       "21               False      False    False   False    False   False  False   \n",
       "22               False      False    False   False    False   False  False   \n",
       "23               False      False    False   False    False   False  False   \n",
       "24               False      False    False   False    False   False  False   \n",
       "25               False      False    False   False    False   False  False   \n",
       "26               False      False    False   False    False   False  False   \n",
       "27               False      False    False   False    False   False  False   \n",
       "28               False      False    False   False    False   False  False   \n",
       "29               False      False    False   False    False   False  False   \n",
       "...                ...        ...      ...     ...      ...     ...    ...   \n",
       "336746           False      False    False   False    False   False  False   \n",
       "336747           False      False    False   False    False   False  False   \n",
       "336748           False      False    False   False    False   False  False   \n",
       "336749           False      False    False   False    False   False  False   \n",
       "336750           False      False    False   False    False   False  False   \n",
       "336751           False      False    False   False    False   False  False   \n",
       "336752           False      False    False   False    False   False  False   \n",
       "336753           False      False    False   False    False   False  False   \n",
       "336754           False      False    False   False    False   False  False   \n",
       "336755           False      False    False   False    False   False  False   \n",
       "336756           False      False    False   False    False   False  False   \n",
       "336757           False      False    False   False    False   False  False   \n",
       "336758           False      False    False   False    False   False  False   \n",
       "336759           False      False    False   False    False   False  False   \n",
       "336760           False      False    False   False    False   False  False   \n",
       "336761           False      False    False   False    False   False  False   \n",
       "336762           False      False    False   False    False   False  False   \n",
       "336763           False      False    False   False    False   False  False   \n",
       "336764           False      False    False   False    False   False  False   \n",
       "336765           False      False    False   False    False   False  False   \n",
       "336766           False      False    False   False    False   False  False   \n",
       "336767           False      False    False   False    False   False  False   \n",
       "336768           False      False    False   False    False   False  False   \n",
       "336769           False      False    False   False    False   False  False   \n",
       "336770           False       True    False   False    False   False  False   \n",
       "336771           False       True    False   False     True   False  False   \n",
       "336772           False       True    False   False     True   False  False   \n",
       "336773           False       True    False   False    False   False  False   \n",
       "336774           False       True    False   False    False   False  False   \n",
       "336775           False       True    False   False    False   False  False   \n",
       "\n",
       "        air_time  distance   hour  minute  time_hour  \n",
       "0          False     False  False   False      False  \n",
       "1          False     False  False   False      False  \n",
       "2          False     False  False   False      False  \n",
       "3          False     False  False   False      False  \n",
       "4          False     False  False   False      False  \n",
       "5          False     False  False   False      False  \n",
       "6          False     False  False   False      False  \n",
       "7          False     False  False   False      False  \n",
       "8          False     False  False   False      False  \n",
       "9          False     False  False   False      False  \n",
       "10         False     False  False   False      False  \n",
       "11         False     False  False   False      False  \n",
       "12         False     False  False   False      False  \n",
       "13         False     False  False   False      False  \n",
       "14         False     False  False   False      False  \n",
       "15         False     False  False   False      False  \n",
       "16         False     False  False   False      False  \n",
       "17         False     False  False   False      False  \n",
       "18         False     False  False   False      False  \n",
       "19         False     False  False   False      False  \n",
       "20         False     False  False   False      False  \n",
       "21         False     False  False   False      False  \n",
       "22         False     False  False   False      False  \n",
       "23         False     False  False   False      False  \n",
       "24         False     False  False   False      False  \n",
       "25         False     False  False   False      False  \n",
       "26         False     False  False   False      False  \n",
       "27         False     False  False   False      False  \n",
       "28         False     False  False   False      False  \n",
       "29         False     False  False   False      False  \n",
       "...          ...       ...    ...     ...        ...  \n",
       "336746     False     False  False   False      False  \n",
       "336747     False     False  False   False      False  \n",
       "336748     False     False  False   False      False  \n",
       "336749     False     False  False   False      False  \n",
       "336750     False     False  False   False      False  \n",
       "336751     False     False  False   False      False  \n",
       "336752     False     False  False   False      False  \n",
       "336753     False     False  False   False      False  \n",
       "336754     False     False  False   False      False  \n",
       "336755     False     False  False   False      False  \n",
       "336756     False     False  False   False      False  \n",
       "336757     False     False  False   False      False  \n",
       "336758     False     False  False   False      False  \n",
       "336759     False     False  False   False      False  \n",
       "336760     False     False  False   False      False  \n",
       "336761     False     False  False   False      False  \n",
       "336762     False     False  False   False      False  \n",
       "336763     False     False  False   False      False  \n",
       "336764     False     False  False   False      False  \n",
       "336765     False     False  False   False      False  \n",
       "336766     False     False  False   False      False  \n",
       "336767     False     False  False   False      False  \n",
       "336768     False     False  False   False      False  \n",
       "336769     False     False  False   False      False  \n",
       "336770      True     False  False   False      False  \n",
       "336771      True     False  False   False      False  \n",
       "336772      True     False  False   False      False  \n",
       "336773      True     False  False   False      False  \n",
       "336774      True     False  False   False      False  \n",
       "336775      True     False  False   False      False  \n",
       "\n",
       "[336776 rows x 19 columns]>"
      ]
     },
     "execution_count": 16,
     "metadata": {},
     "output_type": "execute_result"
    }
   ],
   "source": [
    "fdata.isnull().count"
   ]
  },
  {
   "cell_type": "markdown",
   "metadata": {},
   "source": [
    "# How to convert Float Values to int and Remove NaN :"
   ]
  },
  {
   "cell_type": "code",
   "execution_count": 17,
   "metadata": {},
   "outputs": [
    {
     "data": {
      "text/plain": [
       "year                int64\n",
       "month               int64\n",
       "day                 int64\n",
       "dep_time          float64\n",
       "sched_dep_time      int64\n",
       "dep_delay         float64\n",
       "arr_time          float64\n",
       "sched_arr_time      int64\n",
       "arr_delay         float64\n",
       "carrier            object\n",
       "flight              int64\n",
       "tailnum            object\n",
       "origin             object\n",
       "dest               object\n",
       "air_time          float64\n",
       "distance            int64\n",
       "hour                int64\n",
       "minute              int64\n",
       "time_hour          object\n",
       "dtype: object"
      ]
     },
     "execution_count": 17,
     "metadata": {},
     "output_type": "execute_result"
    }
   ],
   "source": [
    "\n",
    "fdata.dtypes"
   ]
  },
  {
   "cell_type": "code",
   "execution_count": 18,
   "metadata": {},
   "outputs": [
    {
     "ename": "ValueError",
     "evalue": "Cannot convert non-finite values (NA or inf) to integer",
     "output_type": "error",
     "traceback": [
      "\u001b[1;31m---------------------------------------------------------------------------\u001b[0m",
      "\u001b[1;31mValueError\u001b[0m                                Traceback (most recent call last)",
      "\u001b[1;32m<ipython-input-18-bf7e0fd149b8>\u001b[0m in \u001b[0;36m<module>\u001b[1;34m()\u001b[0m\n\u001b[1;32m----> 1\u001b[1;33m \u001b[0mdep_time\u001b[0m \u001b[1;33m=\u001b[0m \u001b[0mfdata\u001b[0m\u001b[1;33m[\u001b[0m\u001b[1;34m'dep_time'\u001b[0m\u001b[1;33m]\u001b[0m\u001b[1;33m.\u001b[0m\u001b[0mastype\u001b[0m\u001b[1;33m(\u001b[0m\u001b[0mnp\u001b[0m\u001b[1;33m.\u001b[0m\u001b[0mint64\u001b[0m\u001b[1;33m)\u001b[0m\u001b[1;33m\u001b[0m\u001b[0m\n\u001b[0m",
      "\u001b[1;32mC:\\ProgramData\\Anaconda3\\lib\\site-packages\\pandas\\util\\_decorators.py\u001b[0m in \u001b[0;36mwrapper\u001b[1;34m(*args, **kwargs)\u001b[0m\n\u001b[0;32m     89\u001b[0m                 \u001b[1;32melse\u001b[0m\u001b[1;33m:\u001b[0m\u001b[1;33m\u001b[0m\u001b[0m\n\u001b[0;32m     90\u001b[0m                     \u001b[0mkwargs\u001b[0m\u001b[1;33m[\u001b[0m\u001b[0mnew_arg_name\u001b[0m\u001b[1;33m]\u001b[0m \u001b[1;33m=\u001b[0m \u001b[0mnew_arg_value\u001b[0m\u001b[1;33m\u001b[0m\u001b[0m\n\u001b[1;32m---> 91\u001b[1;33m             \u001b[1;32mreturn\u001b[0m \u001b[0mfunc\u001b[0m\u001b[1;33m(\u001b[0m\u001b[1;33m*\u001b[0m\u001b[0margs\u001b[0m\u001b[1;33m,\u001b[0m \u001b[1;33m**\u001b[0m\u001b[0mkwargs\u001b[0m\u001b[1;33m)\u001b[0m\u001b[1;33m\u001b[0m\u001b[0m\n\u001b[0m\u001b[0;32m     92\u001b[0m         \u001b[1;32mreturn\u001b[0m \u001b[0mwrapper\u001b[0m\u001b[1;33m\u001b[0m\u001b[0m\n\u001b[0;32m     93\u001b[0m     \u001b[1;32mreturn\u001b[0m \u001b[0m_deprecate_kwarg\u001b[0m\u001b[1;33m\u001b[0m\u001b[0m\n",
      "\u001b[1;32mC:\\ProgramData\\Anaconda3\\lib\\site-packages\\pandas\\core\\generic.py\u001b[0m in \u001b[0;36mastype\u001b[1;34m(self, dtype, copy, errors, **kwargs)\u001b[0m\n\u001b[0;32m   3408\u001b[0m         \u001b[1;31m# else, only a single dtype is given\u001b[0m\u001b[1;33m\u001b[0m\u001b[1;33m\u001b[0m\u001b[0m\n\u001b[0;32m   3409\u001b[0m         new_data = self._data.astype(dtype=dtype, copy=copy, errors=errors,\n\u001b[1;32m-> 3410\u001b[1;33m                                      **kwargs)\n\u001b[0m\u001b[0;32m   3411\u001b[0m         \u001b[1;32mreturn\u001b[0m \u001b[0mself\u001b[0m\u001b[1;33m.\u001b[0m\u001b[0m_constructor\u001b[0m\u001b[1;33m(\u001b[0m\u001b[0mnew_data\u001b[0m\u001b[1;33m)\u001b[0m\u001b[1;33m.\u001b[0m\u001b[0m__finalize__\u001b[0m\u001b[1;33m(\u001b[0m\u001b[0mself\u001b[0m\u001b[1;33m)\u001b[0m\u001b[1;33m\u001b[0m\u001b[0m\n\u001b[0;32m   3412\u001b[0m \u001b[1;33m\u001b[0m\u001b[0m\n",
      "\u001b[1;32mC:\\ProgramData\\Anaconda3\\lib\\site-packages\\pandas\\core\\internals.py\u001b[0m in \u001b[0;36mastype\u001b[1;34m(self, dtype, **kwargs)\u001b[0m\n\u001b[0;32m   3222\u001b[0m \u001b[1;33m\u001b[0m\u001b[0m\n\u001b[0;32m   3223\u001b[0m     \u001b[1;32mdef\u001b[0m \u001b[0mastype\u001b[0m\u001b[1;33m(\u001b[0m\u001b[0mself\u001b[0m\u001b[1;33m,\u001b[0m \u001b[0mdtype\u001b[0m\u001b[1;33m,\u001b[0m \u001b[1;33m**\u001b[0m\u001b[0mkwargs\u001b[0m\u001b[1;33m)\u001b[0m\u001b[1;33m:\u001b[0m\u001b[1;33m\u001b[0m\u001b[0m\n\u001b[1;32m-> 3224\u001b[1;33m         \u001b[1;32mreturn\u001b[0m \u001b[0mself\u001b[0m\u001b[1;33m.\u001b[0m\u001b[0mapply\u001b[0m\u001b[1;33m(\u001b[0m\u001b[1;34m'astype'\u001b[0m\u001b[1;33m,\u001b[0m \u001b[0mdtype\u001b[0m\u001b[1;33m=\u001b[0m\u001b[0mdtype\u001b[0m\u001b[1;33m,\u001b[0m \u001b[1;33m**\u001b[0m\u001b[0mkwargs\u001b[0m\u001b[1;33m)\u001b[0m\u001b[1;33m\u001b[0m\u001b[0m\n\u001b[0m\u001b[0;32m   3225\u001b[0m \u001b[1;33m\u001b[0m\u001b[0m\n\u001b[0;32m   3226\u001b[0m     \u001b[1;32mdef\u001b[0m \u001b[0mconvert\u001b[0m\u001b[1;33m(\u001b[0m\u001b[0mself\u001b[0m\u001b[1;33m,\u001b[0m \u001b[1;33m**\u001b[0m\u001b[0mkwargs\u001b[0m\u001b[1;33m)\u001b[0m\u001b[1;33m:\u001b[0m\u001b[1;33m\u001b[0m\u001b[0m\n",
      "\u001b[1;32mC:\\ProgramData\\Anaconda3\\lib\\site-packages\\pandas\\core\\internals.py\u001b[0m in \u001b[0;36mapply\u001b[1;34m(self, f, axes, filter, do_integrity_check, consolidate, **kwargs)\u001b[0m\n\u001b[0;32m   3089\u001b[0m \u001b[1;33m\u001b[0m\u001b[0m\n\u001b[0;32m   3090\u001b[0m             \u001b[0mkwargs\u001b[0m\u001b[1;33m[\u001b[0m\u001b[1;34m'mgr'\u001b[0m\u001b[1;33m]\u001b[0m \u001b[1;33m=\u001b[0m \u001b[0mself\u001b[0m\u001b[1;33m\u001b[0m\u001b[0m\n\u001b[1;32m-> 3091\u001b[1;33m             \u001b[0mapplied\u001b[0m \u001b[1;33m=\u001b[0m \u001b[0mgetattr\u001b[0m\u001b[1;33m(\u001b[0m\u001b[0mb\u001b[0m\u001b[1;33m,\u001b[0m \u001b[0mf\u001b[0m\u001b[1;33m)\u001b[0m\u001b[1;33m(\u001b[0m\u001b[1;33m**\u001b[0m\u001b[0mkwargs\u001b[0m\u001b[1;33m)\u001b[0m\u001b[1;33m\u001b[0m\u001b[0m\n\u001b[0m\u001b[0;32m   3092\u001b[0m             \u001b[0mresult_blocks\u001b[0m \u001b[1;33m=\u001b[0m \u001b[0m_extend_blocks\u001b[0m\u001b[1;33m(\u001b[0m\u001b[0mapplied\u001b[0m\u001b[1;33m,\u001b[0m \u001b[0mresult_blocks\u001b[0m\u001b[1;33m)\u001b[0m\u001b[1;33m\u001b[0m\u001b[0m\n\u001b[0;32m   3093\u001b[0m \u001b[1;33m\u001b[0m\u001b[0m\n",
      "\u001b[1;32mC:\\ProgramData\\Anaconda3\\lib\\site-packages\\pandas\\core\\internals.py\u001b[0m in \u001b[0;36mastype\u001b[1;34m(self, dtype, copy, errors, values, **kwargs)\u001b[0m\n\u001b[0;32m    469\u001b[0m     \u001b[1;32mdef\u001b[0m \u001b[0mastype\u001b[0m\u001b[1;33m(\u001b[0m\u001b[0mself\u001b[0m\u001b[1;33m,\u001b[0m \u001b[0mdtype\u001b[0m\u001b[1;33m,\u001b[0m \u001b[0mcopy\u001b[0m\u001b[1;33m=\u001b[0m\u001b[1;32mFalse\u001b[0m\u001b[1;33m,\u001b[0m \u001b[0merrors\u001b[0m\u001b[1;33m=\u001b[0m\u001b[1;34m'raise'\u001b[0m\u001b[1;33m,\u001b[0m \u001b[0mvalues\u001b[0m\u001b[1;33m=\u001b[0m\u001b[1;32mNone\u001b[0m\u001b[1;33m,\u001b[0m \u001b[1;33m**\u001b[0m\u001b[0mkwargs\u001b[0m\u001b[1;33m)\u001b[0m\u001b[1;33m:\u001b[0m\u001b[1;33m\u001b[0m\u001b[0m\n\u001b[0;32m    470\u001b[0m         return self._astype(dtype, copy=copy, errors=errors, values=values,\n\u001b[1;32m--> 471\u001b[1;33m                             **kwargs)\n\u001b[0m\u001b[0;32m    472\u001b[0m \u001b[1;33m\u001b[0m\u001b[0m\n\u001b[0;32m    473\u001b[0m     def _astype(self, dtype, copy=False, errors='raise', values=None,\n",
      "\u001b[1;32mC:\\ProgramData\\Anaconda3\\lib\\site-packages\\pandas\\core\\internals.py\u001b[0m in \u001b[0;36m_astype\u001b[1;34m(self, dtype, copy, errors, values, klass, mgr, raise_on_error, **kwargs)\u001b[0m\n\u001b[0;32m    519\u001b[0m \u001b[1;33m\u001b[0m\u001b[0m\n\u001b[0;32m    520\u001b[0m                 \u001b[1;31m# _astype_nansafe works fine with 1-d only\u001b[0m\u001b[1;33m\u001b[0m\u001b[1;33m\u001b[0m\u001b[0m\n\u001b[1;32m--> 521\u001b[1;33m                 \u001b[0mvalues\u001b[0m \u001b[1;33m=\u001b[0m \u001b[0mastype_nansafe\u001b[0m\u001b[1;33m(\u001b[0m\u001b[0mvalues\u001b[0m\u001b[1;33m.\u001b[0m\u001b[0mravel\u001b[0m\u001b[1;33m(\u001b[0m\u001b[1;33m)\u001b[0m\u001b[1;33m,\u001b[0m \u001b[0mdtype\u001b[0m\u001b[1;33m,\u001b[0m \u001b[0mcopy\u001b[0m\u001b[1;33m=\u001b[0m\u001b[1;32mTrue\u001b[0m\u001b[1;33m)\u001b[0m\u001b[1;33m\u001b[0m\u001b[0m\n\u001b[0m\u001b[0;32m    522\u001b[0m                 \u001b[0mvalues\u001b[0m \u001b[1;33m=\u001b[0m \u001b[0mvalues\u001b[0m\u001b[1;33m.\u001b[0m\u001b[0mreshape\u001b[0m\u001b[1;33m(\u001b[0m\u001b[0mself\u001b[0m\u001b[1;33m.\u001b[0m\u001b[0mshape\u001b[0m\u001b[1;33m)\u001b[0m\u001b[1;33m\u001b[0m\u001b[0m\n\u001b[0;32m    523\u001b[0m \u001b[1;33m\u001b[0m\u001b[0m\n",
      "\u001b[1;32mC:\\ProgramData\\Anaconda3\\lib\\site-packages\\pandas\\core\\dtypes\\cast.py\u001b[0m in \u001b[0;36mastype_nansafe\u001b[1;34m(arr, dtype, copy)\u001b[0m\n\u001b[0;32m    618\u001b[0m \u001b[1;33m\u001b[0m\u001b[0m\n\u001b[0;32m    619\u001b[0m         \u001b[1;32mif\u001b[0m \u001b[1;32mnot\u001b[0m \u001b[0mnp\u001b[0m\u001b[1;33m.\u001b[0m\u001b[0misfinite\u001b[0m\u001b[1;33m(\u001b[0m\u001b[0marr\u001b[0m\u001b[1;33m)\u001b[0m\u001b[1;33m.\u001b[0m\u001b[0mall\u001b[0m\u001b[1;33m(\u001b[0m\u001b[1;33m)\u001b[0m\u001b[1;33m:\u001b[0m\u001b[1;33m\u001b[0m\u001b[0m\n\u001b[1;32m--> 620\u001b[1;33m             raise ValueError('Cannot convert non-finite values (NA or inf) to '\n\u001b[0m\u001b[0;32m    621\u001b[0m                              'integer')\n\u001b[0;32m    622\u001b[0m \u001b[1;33m\u001b[0m\u001b[0m\n",
      "\u001b[1;31mValueError\u001b[0m: Cannot convert non-finite values (NA or inf) to integer"
     ]
    }
   ],
   "source": [
    "dep_time = fdata['dep_time'].astype(np.int64)"
   ]
  },
  {
   "cell_type": "markdown",
   "metadata": {},
   "source": [
    "# Drop all rows which contains NaN Value in any cell"
   ]
  },
  {
   "cell_type": "code",
   "execution_count": 19,
   "metadata": {},
   "outputs": [],
   "source": [
    "fdata = fdata.dropna(axis=0, how='any')"
   ]
  },
  {
   "cell_type": "code",
   "execution_count": 20,
   "metadata": {},
   "outputs": [
    {
     "data": {
      "text/plain": [
       "(327346, 19)"
      ]
     },
     "execution_count": 20,
     "metadata": {},
     "output_type": "execute_result"
    }
   ],
   "source": [
    "fdata.shape"
   ]
  },
  {
   "cell_type": "code",
   "execution_count": 21,
   "metadata": {},
   "outputs": [
    {
     "ename": "NameError",
     "evalue": "name 'new_fdata' is not defined",
     "output_type": "error",
     "traceback": [
      "\u001b[1;31m---------------------------------------------------------------------------\u001b[0m",
      "\u001b[1;31mNameError\u001b[0m                                 Traceback (most recent call last)",
      "\u001b[1;32m<ipython-input-21-8f98b19a16f3>\u001b[0m in \u001b[0;36m<module>\u001b[1;34m()\u001b[0m\n\u001b[1;32m----> 1\u001b[1;33m \u001b[0mnew_fdata\u001b[0m\u001b[1;33m.\u001b[0m\u001b[0mshape\u001b[0m\u001b[1;33m\u001b[0m\u001b[0m\n\u001b[0m",
      "\u001b[1;31mNameError\u001b[0m: name 'new_fdata' is not defined"
     ]
    }
   ],
   "source": [
    "new_fdata.shape"
   ]
  },
  {
   "cell_type": "code",
   "execution_count": null,
   "metadata": {},
   "outputs": [],
   "source": [
    "new_fdata.head()"
   ]
  },
  {
   "cell_type": "code",
   "execution_count": null,
   "metadata": {},
   "outputs": [],
   "source": [
    "missing_Rows = len(fdata) - len(new_fdata)\n",
    "missing_Rows"
   ]
  },
  {
   "cell_type": "markdown",
   "metadata": {},
   "source": [
    "<b> Q: Is it affordable to drop these many rows (with NaN values in some columns) from Dataset ? If yes then proceed or else think can we do ? fillna --> Give it a Try "
   ]
  },
  {
   "cell_type": "markdown",
   "metadata": {},
   "source": [
    "#  Exploration ideas : \n",
    "# 1. <U> Departure Delays "
   ]
  },
  {
   "cell_type": "code",
   "execution_count": 22,
   "metadata": {},
   "outputs": [
    {
     "data": {
      "text/plain": [
       "year                int64\n",
       "month               int64\n",
       "day                 int64\n",
       "dep_time          float64\n",
       "sched_dep_time      int64\n",
       "dep_delay         float64\n",
       "arr_time          float64\n",
       "sched_arr_time      int64\n",
       "arr_delay         float64\n",
       "carrier            object\n",
       "flight              int64\n",
       "tailnum            object\n",
       "origin             object\n",
       "dest               object\n",
       "air_time          float64\n",
       "distance            int64\n",
       "hour                int64\n",
       "minute              int64\n",
       "time_hour          object\n",
       "dtype: object"
      ]
     },
     "execution_count": 22,
     "metadata": {},
     "output_type": "execute_result"
    }
   ],
   "source": [
    "fdata.dtypes"
   ]
  },
  {
   "cell_type": "code",
   "execution_count": 23,
   "metadata": {},
   "outputs": [],
   "source": [
    "fdata[['dep_time','dep_delay']] = fdata[['dep_time','dep_delay']].astype(np.int64) \n",
    "\n"
   ]
  },
  {
   "cell_type": "code",
   "execution_count": 24,
   "metadata": {},
   "outputs": [
    {
     "data": {
      "text/plain": [
       "year                int64\n",
       "month               int64\n",
       "day                 int64\n",
       "dep_time            int64\n",
       "sched_dep_time      int64\n",
       "dep_delay           int64\n",
       "arr_time          float64\n",
       "sched_arr_time      int64\n",
       "arr_delay         float64\n",
       "carrier            object\n",
       "flight              int64\n",
       "tailnum            object\n",
       "origin             object\n",
       "dest               object\n",
       "air_time          float64\n",
       "distance            int64\n",
       "hour                int64\n",
       "minute              int64\n",
       "time_hour          object\n",
       "dtype: object"
      ]
     },
     "execution_count": 24,
     "metadata": {},
     "output_type": "execute_result"
    }
   ],
   "source": [
    "fdata.dtypes"
   ]
  },
  {
   "cell_type": "code",
   "execution_count": 25,
   "metadata": {},
   "outputs": [
    {
     "data": {
      "text/html": [
       "<div>\n",
       "<style>\n",
       "    .dataframe thead tr:only-child th {\n",
       "        text-align: right;\n",
       "    }\n",
       "\n",
       "    .dataframe thead th {\n",
       "        text-align: left;\n",
       "    }\n",
       "\n",
       "    .dataframe tbody tr th {\n",
       "        vertical-align: top;\n",
       "    }\n",
       "</style>\n",
       "<table border=\"1\" class=\"dataframe\">\n",
       "  <thead>\n",
       "    <tr style=\"text-align: right;\">\n",
       "      <th></th>\n",
       "      <th>year</th>\n",
       "      <th>month</th>\n",
       "      <th>day</th>\n",
       "      <th>dep_time</th>\n",
       "      <th>sched_dep_time</th>\n",
       "      <th>dep_delay</th>\n",
       "      <th>arr_time</th>\n",
       "      <th>sched_arr_time</th>\n",
       "      <th>arr_delay</th>\n",
       "      <th>carrier</th>\n",
       "      <th>flight</th>\n",
       "      <th>tailnum</th>\n",
       "      <th>origin</th>\n",
       "      <th>dest</th>\n",
       "      <th>air_time</th>\n",
       "      <th>distance</th>\n",
       "      <th>hour</th>\n",
       "      <th>minute</th>\n",
       "      <th>time_hour</th>\n",
       "    </tr>\n",
       "  </thead>\n",
       "  <tbody>\n",
       "    <tr>\n",
       "      <th>0</th>\n",
       "      <td>2013</td>\n",
       "      <td>1</td>\n",
       "      <td>1</td>\n",
       "      <td>517</td>\n",
       "      <td>515</td>\n",
       "      <td>2</td>\n",
       "      <td>830.0</td>\n",
       "      <td>819</td>\n",
       "      <td>11.0</td>\n",
       "      <td>UA</td>\n",
       "      <td>1545</td>\n",
       "      <td>N14228</td>\n",
       "      <td>EWR</td>\n",
       "      <td>IAH</td>\n",
       "      <td>227.0</td>\n",
       "      <td>1400</td>\n",
       "      <td>5</td>\n",
       "      <td>15</td>\n",
       "      <td>01-01-2013 05:00</td>\n",
       "    </tr>\n",
       "    <tr>\n",
       "      <th>1</th>\n",
       "      <td>2013</td>\n",
       "      <td>1</td>\n",
       "      <td>1</td>\n",
       "      <td>533</td>\n",
       "      <td>529</td>\n",
       "      <td>4</td>\n",
       "      <td>850.0</td>\n",
       "      <td>830</td>\n",
       "      <td>20.0</td>\n",
       "      <td>UA</td>\n",
       "      <td>1714</td>\n",
       "      <td>N24211</td>\n",
       "      <td>LGA</td>\n",
       "      <td>IAH</td>\n",
       "      <td>227.0</td>\n",
       "      <td>1416</td>\n",
       "      <td>5</td>\n",
       "      <td>29</td>\n",
       "      <td>01-01-2013 05:00</td>\n",
       "    </tr>\n",
       "    <tr>\n",
       "      <th>2</th>\n",
       "      <td>2013</td>\n",
       "      <td>1</td>\n",
       "      <td>1</td>\n",
       "      <td>542</td>\n",
       "      <td>540</td>\n",
       "      <td>2</td>\n",
       "      <td>923.0</td>\n",
       "      <td>850</td>\n",
       "      <td>33.0</td>\n",
       "      <td>AA</td>\n",
       "      <td>1141</td>\n",
       "      <td>N619AA</td>\n",
       "      <td>JFK</td>\n",
       "      <td>MIA</td>\n",
       "      <td>160.0</td>\n",
       "      <td>1089</td>\n",
       "      <td>5</td>\n",
       "      <td>40</td>\n",
       "      <td>01-01-2013 05:00</td>\n",
       "    </tr>\n",
       "    <tr>\n",
       "      <th>3</th>\n",
       "      <td>2013</td>\n",
       "      <td>1</td>\n",
       "      <td>1</td>\n",
       "      <td>544</td>\n",
       "      <td>545</td>\n",
       "      <td>-1</td>\n",
       "      <td>1004.0</td>\n",
       "      <td>1022</td>\n",
       "      <td>-18.0</td>\n",
       "      <td>B6</td>\n",
       "      <td>725</td>\n",
       "      <td>N804JB</td>\n",
       "      <td>JFK</td>\n",
       "      <td>BQN</td>\n",
       "      <td>183.0</td>\n",
       "      <td>1576</td>\n",
       "      <td>5</td>\n",
       "      <td>45</td>\n",
       "      <td>01-01-2013 05:00</td>\n",
       "    </tr>\n",
       "    <tr>\n",
       "      <th>4</th>\n",
       "      <td>2013</td>\n",
       "      <td>1</td>\n",
       "      <td>1</td>\n",
       "      <td>554</td>\n",
       "      <td>600</td>\n",
       "      <td>-6</td>\n",
       "      <td>812.0</td>\n",
       "      <td>837</td>\n",
       "      <td>-25.0</td>\n",
       "      <td>DL</td>\n",
       "      <td>461</td>\n",
       "      <td>N668DN</td>\n",
       "      <td>LGA</td>\n",
       "      <td>ATL</td>\n",
       "      <td>116.0</td>\n",
       "      <td>762</td>\n",
       "      <td>6</td>\n",
       "      <td>0</td>\n",
       "      <td>01-01-2013 06:00</td>\n",
       "    </tr>\n",
       "  </tbody>\n",
       "</table>\n",
       "</div>"
      ],
      "text/plain": [
       "   year  month  day  dep_time  sched_dep_time  dep_delay  arr_time  \\\n",
       "0  2013      1    1       517             515          2     830.0   \n",
       "1  2013      1    1       533             529          4     850.0   \n",
       "2  2013      1    1       542             540          2     923.0   \n",
       "3  2013      1    1       544             545         -1    1004.0   \n",
       "4  2013      1    1       554             600         -6     812.0   \n",
       "\n",
       "   sched_arr_time  arr_delay carrier  flight tailnum origin dest  air_time  \\\n",
       "0             819       11.0      UA    1545  N14228    EWR  IAH     227.0   \n",
       "1             830       20.0      UA    1714  N24211    LGA  IAH     227.0   \n",
       "2             850       33.0      AA    1141  N619AA    JFK  MIA     160.0   \n",
       "3            1022      -18.0      B6     725  N804JB    JFK  BQN     183.0   \n",
       "4             837      -25.0      DL     461  N668DN    LGA  ATL     116.0   \n",
       "\n",
       "   distance  hour  minute         time_hour  \n",
       "0      1400     5      15  01-01-2013 05:00  \n",
       "1      1416     5      29  01-01-2013 05:00  \n",
       "2      1089     5      40  01-01-2013 05:00  \n",
       "3      1576     5      45  01-01-2013 05:00  \n",
       "4       762     6       0  01-01-2013 06:00  "
      ]
     },
     "execution_count": 25,
     "metadata": {},
     "output_type": "execute_result"
    }
   ],
   "source": [
    "fdata.head()"
   ]
  },
  {
   "cell_type": "code",
   "execution_count": 41,
   "metadata": {},
   "outputs": [
    {
     "data": {
      "text/plain": [
       "1301"
      ]
     },
     "execution_count": 41,
     "metadata": {},
     "output_type": "execute_result"
    }
   ],
   "source": [
    "fdata['dep_delay'].max()"
   ]
  },
  {
   "cell_type": "code",
   "execution_count": 40,
   "metadata": {},
   "outputs": [
    {
     "data": {
      "text/html": [
       "<div>\n",
       "<style>\n",
       "    .dataframe thead tr:only-child th {\n",
       "        text-align: right;\n",
       "    }\n",
       "\n",
       "    .dataframe thead th {\n",
       "        text-align: left;\n",
       "    }\n",
       "\n",
       "    .dataframe tbody tr th {\n",
       "        vertical-align: top;\n",
       "    }\n",
       "</style>\n",
       "<table border=\"1\" class=\"dataframe\">\n",
       "  <thead>\n",
       "    <tr style=\"text-align: right;\">\n",
       "      <th></th>\n",
       "      <th>year</th>\n",
       "      <th>month</th>\n",
       "      <th>day</th>\n",
       "      <th>dep_time</th>\n",
       "      <th>sched_dep_time</th>\n",
       "      <th>dep_delay</th>\n",
       "      <th>arr_time</th>\n",
       "      <th>sched_arr_time</th>\n",
       "      <th>arr_delay</th>\n",
       "      <th>flight</th>\n",
       "      <th>air_time</th>\n",
       "      <th>distance</th>\n",
       "      <th>hour</th>\n",
       "      <th>minute</th>\n",
       "    </tr>\n",
       "  </thead>\n",
       "  <tbody>\n",
       "    <tr>\n",
       "      <th>count</th>\n",
       "      <td>327346.0</td>\n",
       "      <td>327346.000000</td>\n",
       "      <td>327346.000000</td>\n",
       "      <td>327346.000000</td>\n",
       "      <td>327346.000000</td>\n",
       "      <td>327346.000000</td>\n",
       "      <td>327346.000000</td>\n",
       "      <td>327346.000000</td>\n",
       "      <td>327346.000000</td>\n",
       "      <td>327346.000000</td>\n",
       "      <td>327346.000000</td>\n",
       "      <td>327346.000000</td>\n",
       "      <td>327346.000000</td>\n",
       "      <td>327346.000000</td>\n",
       "    </tr>\n",
       "    <tr>\n",
       "      <th>mean</th>\n",
       "      <td>2013.0</td>\n",
       "      <td>6.564803</td>\n",
       "      <td>15.740825</td>\n",
       "      <td>1348.789883</td>\n",
       "      <td>1340.335098</td>\n",
       "      <td>12.555156</td>\n",
       "      <td>1501.908238</td>\n",
       "      <td>1532.788426</td>\n",
       "      <td>6.895377</td>\n",
       "      <td>1943.104501</td>\n",
       "      <td>150.686460</td>\n",
       "      <td>1048.371314</td>\n",
       "      <td>13.141010</td>\n",
       "      <td>26.234116</td>\n",
       "    </tr>\n",
       "    <tr>\n",
       "      <th>std</th>\n",
       "      <td>0.0</td>\n",
       "      <td>3.413444</td>\n",
       "      <td>8.777376</td>\n",
       "      <td>488.319979</td>\n",
       "      <td>467.413156</td>\n",
       "      <td>40.065688</td>\n",
       "      <td>532.888731</td>\n",
       "      <td>497.979124</td>\n",
       "      <td>44.633292</td>\n",
       "      <td>1621.523684</td>\n",
       "      <td>93.688305</td>\n",
       "      <td>735.908523</td>\n",
       "      <td>4.662063</td>\n",
       "      <td>19.295918</td>\n",
       "    </tr>\n",
       "    <tr>\n",
       "      <th>min</th>\n",
       "      <td>2013.0</td>\n",
       "      <td>1.000000</td>\n",
       "      <td>1.000000</td>\n",
       "      <td>1.000000</td>\n",
       "      <td>500.000000</td>\n",
       "      <td>-43.000000</td>\n",
       "      <td>1.000000</td>\n",
       "      <td>1.000000</td>\n",
       "      <td>-86.000000</td>\n",
       "      <td>1.000000</td>\n",
       "      <td>20.000000</td>\n",
       "      <td>80.000000</td>\n",
       "      <td>5.000000</td>\n",
       "      <td>0.000000</td>\n",
       "    </tr>\n",
       "    <tr>\n",
       "      <th>25%</th>\n",
       "      <td>2013.0</td>\n",
       "      <td>4.000000</td>\n",
       "      <td>8.000000</td>\n",
       "      <td>907.000000</td>\n",
       "      <td>905.000000</td>\n",
       "      <td>-5.000000</td>\n",
       "      <td>1104.000000</td>\n",
       "      <td>1122.000000</td>\n",
       "      <td>-17.000000</td>\n",
       "      <td>544.000000</td>\n",
       "      <td>82.000000</td>\n",
       "      <td>509.000000</td>\n",
       "      <td>9.000000</td>\n",
       "      <td>8.000000</td>\n",
       "    </tr>\n",
       "    <tr>\n",
       "      <th>50%</th>\n",
       "      <td>2013.0</td>\n",
       "      <td>7.000000</td>\n",
       "      <td>16.000000</td>\n",
       "      <td>1400.000000</td>\n",
       "      <td>1355.000000</td>\n",
       "      <td>-2.000000</td>\n",
       "      <td>1535.000000</td>\n",
       "      <td>1554.000000</td>\n",
       "      <td>-5.000000</td>\n",
       "      <td>1467.000000</td>\n",
       "      <td>129.000000</td>\n",
       "      <td>888.000000</td>\n",
       "      <td>13.000000</td>\n",
       "      <td>29.000000</td>\n",
       "    </tr>\n",
       "    <tr>\n",
       "      <th>75%</th>\n",
       "      <td>2013.0</td>\n",
       "      <td>10.000000</td>\n",
       "      <td>23.000000</td>\n",
       "      <td>1744.000000</td>\n",
       "      <td>1729.000000</td>\n",
       "      <td>11.000000</td>\n",
       "      <td>1940.000000</td>\n",
       "      <td>1944.000000</td>\n",
       "      <td>14.000000</td>\n",
       "      <td>3412.000000</td>\n",
       "      <td>192.000000</td>\n",
       "      <td>1389.000000</td>\n",
       "      <td>17.000000</td>\n",
       "      <td>44.000000</td>\n",
       "    </tr>\n",
       "    <tr>\n",
       "      <th>max</th>\n",
       "      <td>2013.0</td>\n",
       "      <td>12.000000</td>\n",
       "      <td>31.000000</td>\n",
       "      <td>2400.000000</td>\n",
       "      <td>2359.000000</td>\n",
       "      <td>1301.000000</td>\n",
       "      <td>2400.000000</td>\n",
       "      <td>2359.000000</td>\n",
       "      <td>1272.000000</td>\n",
       "      <td>8500.000000</td>\n",
       "      <td>695.000000</td>\n",
       "      <td>4983.000000</td>\n",
       "      <td>23.000000</td>\n",
       "      <td>59.000000</td>\n",
       "    </tr>\n",
       "  </tbody>\n",
       "</table>\n",
       "</div>"
      ],
      "text/plain": [
       "           year          month            day       dep_time  sched_dep_time  \\\n",
       "count  327346.0  327346.000000  327346.000000  327346.000000   327346.000000   \n",
       "mean     2013.0       6.564803      15.740825    1348.789883     1340.335098   \n",
       "std         0.0       3.413444       8.777376     488.319979      467.413156   \n",
       "min      2013.0       1.000000       1.000000       1.000000      500.000000   \n",
       "25%      2013.0       4.000000       8.000000     907.000000      905.000000   \n",
       "50%      2013.0       7.000000      16.000000    1400.000000     1355.000000   \n",
       "75%      2013.0      10.000000      23.000000    1744.000000     1729.000000   \n",
       "max      2013.0      12.000000      31.000000    2400.000000     2359.000000   \n",
       "\n",
       "           dep_delay       arr_time  sched_arr_time      arr_delay  \\\n",
       "count  327346.000000  327346.000000   327346.000000  327346.000000   \n",
       "mean       12.555156    1501.908238     1532.788426       6.895377   \n",
       "std        40.065688     532.888731      497.979124      44.633292   \n",
       "min       -43.000000       1.000000        1.000000     -86.000000   \n",
       "25%        -5.000000    1104.000000     1122.000000     -17.000000   \n",
       "50%        -2.000000    1535.000000     1554.000000      -5.000000   \n",
       "75%        11.000000    1940.000000     1944.000000      14.000000   \n",
       "max      1301.000000    2400.000000     2359.000000    1272.000000   \n",
       "\n",
       "              flight       air_time       distance           hour  \\\n",
       "count  327346.000000  327346.000000  327346.000000  327346.000000   \n",
       "mean     1943.104501     150.686460    1048.371314      13.141010   \n",
       "std      1621.523684      93.688305     735.908523       4.662063   \n",
       "min         1.000000      20.000000      80.000000       5.000000   \n",
       "25%       544.000000      82.000000     509.000000       9.000000   \n",
       "50%      1467.000000     129.000000     888.000000      13.000000   \n",
       "75%      3412.000000     192.000000    1389.000000      17.000000   \n",
       "max      8500.000000     695.000000    4983.000000      23.000000   \n",
       "\n",
       "              minute  \n",
       "count  327346.000000  \n",
       "mean       26.234116  \n",
       "std        19.295918  \n",
       "min         0.000000  \n",
       "25%         8.000000  \n",
       "50%        29.000000  \n",
       "75%        44.000000  \n",
       "max        59.000000  "
      ]
     },
     "execution_count": 40,
     "metadata": {},
     "output_type": "execute_result"
    }
   ],
   "source": [
    "fdata.describe()"
   ]
  },
  {
   "cell_type": "code",
   "execution_count": 42,
   "metadata": {},
   "outputs": [
    {
     "data": {
      "text/html": [
       "<div>\n",
       "<style>\n",
       "    .dataframe thead tr:only-child th {\n",
       "        text-align: right;\n",
       "    }\n",
       "\n",
       "    .dataframe thead th {\n",
       "        text-align: left;\n",
       "    }\n",
       "\n",
       "    .dataframe tbody tr th {\n",
       "        vertical-align: top;\n",
       "    }\n",
       "</style>\n",
       "<table border=\"1\" class=\"dataframe\">\n",
       "  <thead>\n",
       "    <tr style=\"text-align: right;\">\n",
       "      <th></th>\n",
       "      <th>year</th>\n",
       "      <th>month</th>\n",
       "      <th>day</th>\n",
       "      <th>dep_time</th>\n",
       "      <th>sched_dep_time</th>\n",
       "      <th>dep_delay</th>\n",
       "      <th>arr_time</th>\n",
       "      <th>sched_arr_time</th>\n",
       "      <th>arr_delay</th>\n",
       "      <th>carrier</th>\n",
       "      <th>flight</th>\n",
       "      <th>tailnum</th>\n",
       "      <th>origin</th>\n",
       "      <th>dest</th>\n",
       "      <th>air_time</th>\n",
       "      <th>distance</th>\n",
       "      <th>hour</th>\n",
       "      <th>minute</th>\n",
       "      <th>time_hour</th>\n",
       "    </tr>\n",
       "  </thead>\n",
       "  <tbody>\n",
       "    <tr>\n",
       "      <th>7072</th>\n",
       "      <td>2013</td>\n",
       "      <td>1</td>\n",
       "      <td>9</td>\n",
       "      <td>641</td>\n",
       "      <td>900</td>\n",
       "      <td>1301</td>\n",
       "      <td>1242.0</td>\n",
       "      <td>1530</td>\n",
       "      <td>1272.0</td>\n",
       "      <td>HA</td>\n",
       "      <td>51</td>\n",
       "      <td>N384HA</td>\n",
       "      <td>JFK</td>\n",
       "      <td>HNL</td>\n",
       "      <td>640.0</td>\n",
       "      <td>4983</td>\n",
       "      <td>9</td>\n",
       "      <td>0</td>\n",
       "      <td>09-01-2013 09:00</td>\n",
       "    </tr>\n",
       "  </tbody>\n",
       "</table>\n",
       "</div>"
      ],
      "text/plain": [
       "      year  month  day  dep_time  sched_dep_time  dep_delay  arr_time  \\\n",
       "7072  2013      1    9       641             900       1301    1242.0   \n",
       "\n",
       "      sched_arr_time  arr_delay carrier  flight tailnum origin dest  air_time  \\\n",
       "7072            1530     1272.0      HA      51  N384HA    JFK  HNL     640.0   \n",
       "\n",
       "      distance  hour  minute         time_hour  \n",
       "7072      4983     9       0  09-01-2013 09:00  "
      ]
     },
     "execution_count": 42,
     "metadata": {},
     "output_type": "execute_result"
    }
   ],
   "source": [
    "fdata[fdata['dep_delay']==fdata['dep_delay'].max()]"
   ]
  },
  {
   "cell_type": "code",
   "execution_count": 56,
   "metadata": {},
   "outputs": [
    {
     "data": {
      "text/plain": [
       "'02-01-2013 13:00'"
      ]
     },
     "execution_count": 56,
     "metadata": {},
     "output_type": "execute_result"
    }
   ],
   "source": [
    "fdata.iloc[fdata['dep_delay'].max()]['time_hour']"
   ]
  },
  {
   "cell_type": "code",
   "execution_count": null,
   "metadata": {
    "collapsed": true
   },
   "outputs": [],
   "source": []
  }
 ],
 "metadata": {
  "kernelspec": {
   "display_name": "Python 3",
   "language": "python",
   "name": "python3"
  },
  "language_info": {
   "codemirror_mode": {
    "name": "ipython",
    "version": 3
   },
   "file_extension": ".py",
   "mimetype": "text/x-python",
   "name": "python",
   "nbconvert_exporter": "python",
   "pygments_lexer": "ipython3",
   "version": "3.6.3"
  }
 },
 "nbformat": 4,
 "nbformat_minor": 2
}
