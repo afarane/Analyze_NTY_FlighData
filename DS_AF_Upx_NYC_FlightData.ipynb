{
  "nbformat": 4,
  "nbformat_minor": 0,
  "metadata": {
    "colab": {
      "name": "DS_AF_Upx_NYC_FlightData.ipynb",
      "version": "0.3.2",
      "provenance": [],
      "toc_visible": true,
      "include_colab_link": true
    },
    "kernelspec": {
      "display_name": "Python 3",
      "language": "python",
      "name": "python3"
    }
  },
  "cells": [
    {
      "cell_type": "markdown",
      "metadata": {
        "id": "view-in-github",
        "colab_type": "text"
      },
      "source": [
        "[View in Colaboratory](https://colab.research.google.com/github/afarane/Analyze_NYC_FlighData/blob/master/DS_AF_Upx_NYC_FlightData.ipynb)"
      ]
    },
    {
      "metadata": {
        "id": "-EwOYVBeX7Iq",
        "colab_type": "text"
      },
      "cell_type": "markdown",
      "source": [
        "## 1. Load Dataset and Overview"
      ]
    },
    {
      "metadata": {
        "id": "A_ONcr9kX7Is",
        "colab_type": "code",
        "colab": {}
      },
      "cell_type": "code",
      "source": [
        "import pandas as pd\n",
        "import numpy as np"
      ],
      "execution_count": 0,
      "outputs": []
    },
    {
      "metadata": {
        "id": "5cWSkB6DX7Iz",
        "colab_type": "code",
        "colab": {
          "base_uri": "https://localhost:8080/",
          "height": 394
        },
        "outputId": "9c10bff7-fc82-437a-83f5-bae5de88895e"
      },
      "cell_type": "code",
      "source": [
        "# 1.1: Load Dataset : ----- \n",
        "#train_data = pd.read_csv('flight_data.csv', error_bad_lines=False)\n",
        "flighData = pd.read_csv('flight_data.csv')\n",
        "flighData.head()\n"
      ],
      "execution_count": 5,
      "outputs": [
        {
          "output_type": "execute_result",
          "data": {
            "text/html": [
              "<div>\n",
              "<style scoped>\n",
              "    .dataframe tbody tr th:only-of-type {\n",
              "        vertical-align: middle;\n",
              "    }\n",
              "\n",
              "    .dataframe tbody tr th {\n",
              "        vertical-align: top;\n",
              "    }\n",
              "\n",
              "    .dataframe thead th {\n",
              "        text-align: right;\n",
              "    }\n",
              "</style>\n",
              "<table border=\"1\" class=\"dataframe\">\n",
              "  <thead>\n",
              "    <tr style=\"text-align: right;\">\n",
              "      <th></th>\n",
              "      <th>year</th>\n",
              "      <th>month</th>\n",
              "      <th>day</th>\n",
              "      <th>dep_time</th>\n",
              "      <th>sched_dep_time</th>\n",
              "      <th>dep_delay</th>\n",
              "      <th>arr_time</th>\n",
              "      <th>sched_arr_time</th>\n",
              "      <th>arr_delay</th>\n",
              "      <th>carrier</th>\n",
              "      <th>flight</th>\n",
              "      <th>tailnum</th>\n",
              "      <th>origin</th>\n",
              "      <th>dest</th>\n",
              "      <th>air_time</th>\n",
              "      <th>distance</th>\n",
              "      <th>hour</th>\n",
              "      <th>minute</th>\n",
              "      <th>time_hour</th>\n",
              "    </tr>\n",
              "  </thead>\n",
              "  <tbody>\n",
              "    <tr>\n",
              "      <th>0</th>\n",
              "      <td>2013</td>\n",
              "      <td>1</td>\n",
              "      <td>1</td>\n",
              "      <td>517.0</td>\n",
              "      <td>515</td>\n",
              "      <td>2.0</td>\n",
              "      <td>830.0</td>\n",
              "      <td>819</td>\n",
              "      <td>11.0</td>\n",
              "      <td>UA</td>\n",
              "      <td>1545.0</td>\n",
              "      <td>N14228</td>\n",
              "      <td>EWR</td>\n",
              "      <td>IAH</td>\n",
              "      <td>227.0</td>\n",
              "      <td>1400.0</td>\n",
              "      <td>5.0</td>\n",
              "      <td>15.0</td>\n",
              "      <td>01-01-2013 05:00</td>\n",
              "    </tr>\n",
              "    <tr>\n",
              "      <th>1</th>\n",
              "      <td>2013</td>\n",
              "      <td>1</td>\n",
              "      <td>1</td>\n",
              "      <td>533.0</td>\n",
              "      <td>529</td>\n",
              "      <td>4.0</td>\n",
              "      <td>850.0</td>\n",
              "      <td>830</td>\n",
              "      <td>20.0</td>\n",
              "      <td>UA</td>\n",
              "      <td>1714.0</td>\n",
              "      <td>N24211</td>\n",
              "      <td>LGA</td>\n",
              "      <td>IAH</td>\n",
              "      <td>227.0</td>\n",
              "      <td>1416.0</td>\n",
              "      <td>5.0</td>\n",
              "      <td>29.0</td>\n",
              "      <td>01-01-2013 05:00</td>\n",
              "    </tr>\n",
              "    <tr>\n",
              "      <th>2</th>\n",
              "      <td>2013</td>\n",
              "      <td>1</td>\n",
              "      <td>1</td>\n",
              "      <td>542.0</td>\n",
              "      <td>540</td>\n",
              "      <td>2.0</td>\n",
              "      <td>923.0</td>\n",
              "      <td>850</td>\n",
              "      <td>33.0</td>\n",
              "      <td>AA</td>\n",
              "      <td>1141.0</td>\n",
              "      <td>N619AA</td>\n",
              "      <td>JFK</td>\n",
              "      <td>MIA</td>\n",
              "      <td>160.0</td>\n",
              "      <td>1089.0</td>\n",
              "      <td>5.0</td>\n",
              "      <td>40.0</td>\n",
              "      <td>01-01-2013 05:00</td>\n",
              "    </tr>\n",
              "    <tr>\n",
              "      <th>3</th>\n",
              "      <td>2013</td>\n",
              "      <td>1</td>\n",
              "      <td>1</td>\n",
              "      <td>544.0</td>\n",
              "      <td>545</td>\n",
              "      <td>-1.0</td>\n",
              "      <td>1004.0</td>\n",
              "      <td>1022</td>\n",
              "      <td>-18.0</td>\n",
              "      <td>B6</td>\n",
              "      <td>725.0</td>\n",
              "      <td>N804JB</td>\n",
              "      <td>JFK</td>\n",
              "      <td>BQN</td>\n",
              "      <td>183.0</td>\n",
              "      <td>1576.0</td>\n",
              "      <td>5.0</td>\n",
              "      <td>45.0</td>\n",
              "      <td>01-01-2013 05:00</td>\n",
              "    </tr>\n",
              "    <tr>\n",
              "      <th>4</th>\n",
              "      <td>2013</td>\n",
              "      <td>1</td>\n",
              "      <td>1</td>\n",
              "      <td>554.0</td>\n",
              "      <td>600</td>\n",
              "      <td>-6.0</td>\n",
              "      <td>812.0</td>\n",
              "      <td>837</td>\n",
              "      <td>-25.0</td>\n",
              "      <td>DL</td>\n",
              "      <td>461.0</td>\n",
              "      <td>N668DN</td>\n",
              "      <td>LGA</td>\n",
              "      <td>ATL</td>\n",
              "      <td>116.0</td>\n",
              "      <td>762.0</td>\n",
              "      <td>6.0</td>\n",
              "      <td>0.0</td>\n",
              "      <td>01-01-2013 06:00</td>\n",
              "    </tr>\n",
              "  </tbody>\n",
              "</table>\n",
              "</div>"
            ],
            "text/plain": [
              "   year  month  day  dep_time  sched_dep_time  dep_delay  arr_time  \\\n",
              "0  2013      1    1     517.0             515        2.0     830.0   \n",
              "1  2013      1    1     533.0             529        4.0     850.0   \n",
              "2  2013      1    1     542.0             540        2.0     923.0   \n",
              "3  2013      1    1     544.0             545       -1.0    1004.0   \n",
              "4  2013      1    1     554.0             600       -6.0     812.0   \n",
              "\n",
              "   sched_arr_time  arr_delay carrier  flight tailnum origin dest  air_time  \\\n",
              "0             819       11.0      UA  1545.0  N14228    EWR  IAH     227.0   \n",
              "1             830       20.0      UA  1714.0  N24211    LGA  IAH     227.0   \n",
              "2             850       33.0      AA  1141.0  N619AA    JFK  MIA     160.0   \n",
              "3            1022      -18.0      B6   725.0  N804JB    JFK  BQN     183.0   \n",
              "4             837      -25.0      DL   461.0  N668DN    LGA  ATL     116.0   \n",
              "\n",
              "   distance  hour  minute         time_hour  \n",
              "0    1400.0   5.0    15.0  01-01-2013 05:00  \n",
              "1    1416.0   5.0    29.0  01-01-2013 05:00  \n",
              "2    1089.0   5.0    40.0  01-01-2013 05:00  \n",
              "3    1576.0   5.0    45.0  01-01-2013 05:00  \n",
              "4     762.0   6.0     0.0  01-01-2013 06:00  "
            ]
          },
          "metadata": {
            "tags": []
          },
          "execution_count": 5
        }
      ]
    },
    {
      "metadata": {
        "id": "z8MMckqRX7I6",
        "colab_type": "code",
        "colab": {
          "base_uri": "https://localhost:8080/",
          "height": 350
        },
        "outputId": "6a10812b-ccae-4ba6-ef86-4b0753678c2d"
      },
      "cell_type": "code",
      "source": [
        "# 1.2: ProfileReport of Dataset : -----\n",
        "#!pip install pandas-profiling\n",
        "#import pandas_profiling \n",
        "#pfr = pandas_profiling.ProfileReport(flighData)\n",
        "#pfr.to_file(\"DS_AF_Upx_NYC_FlightData.html\")\n",
        "#pfr"
      ],
      "execution_count": 3,
      "outputs": [
        {
          "output_type": "error",
          "ename": "ModuleNotFoundError",
          "evalue": "ignored",
          "traceback": [
            "\u001b[0;31m---------------------------------------------------------------------------\u001b[0m",
            "\u001b[0;31mModuleNotFoundError\u001b[0m                       Traceback (most recent call last)",
            "\u001b[0;32m<ipython-input-3-f80994f4874c>\u001b[0m in \u001b[0;36m<module>\u001b[0;34m()\u001b[0m\n\u001b[0;32m----> 1\u001b[0;31m \u001b[0;32mimport\u001b[0m \u001b[0mpandas_profiling\u001b[0m\u001b[0;34m\u001b[0m\u001b[0m\n\u001b[0m\u001b[1;32m      2\u001b[0m \u001b[0mpfr\u001b[0m \u001b[0;34m=\u001b[0m \u001b[0mpandas_profiling\u001b[0m\u001b[0;34m.\u001b[0m\u001b[0mProfileReport\u001b[0m\u001b[0;34m(\u001b[0m\u001b[0mflighData\u001b[0m\u001b[0;34m)\u001b[0m\u001b[0;34m\u001b[0m\u001b[0m\n\u001b[1;32m      3\u001b[0m \u001b[0mpfr\u001b[0m\u001b[0;34m.\u001b[0m\u001b[0mto_file\u001b[0m\u001b[0;34m(\u001b[0m\u001b[0;34m\"DS_AF_Upx_NYC_FlightData.html\"\u001b[0m\u001b[0;34m)\u001b[0m\u001b[0;34m\u001b[0m\u001b[0m\n\u001b[1;32m      4\u001b[0m \u001b[0;31m#pfr\u001b[0m\u001b[0;34m\u001b[0m\u001b[0;34m\u001b[0m\u001b[0m\n",
            "\u001b[0;31mModuleNotFoundError\u001b[0m: No module named 'pandas_profiling'",
            "",
            "\u001b[0;31m---------------------------------------------------------------------------\u001b[0;32m\nNOTE: If your import is failing due to a missing package, you can\nmanually install dependencies using either !pip or !apt.\n\nTo view examples of installing some common dependencies, click the\n\"Open Examples\" button below.\n\u001b[0;31m---------------------------------------------------------------------------\u001b[0m\n"
          ]
        }
      ]
    },
    {
      "metadata": {
        "id": "AYpVh943X7JA",
        "colab_type": "code",
        "colab": {},
        "outputId": "860e5add-df18-44f2-c889-be5b4292cf5c"
      },
      "cell_type": "code",
      "source": [
        "# 1.3: shape : -----\n",
        "flighData.shape"
      ],
      "execution_count": 0,
      "outputs": [
        {
          "output_type": "execute_result",
          "data": {
            "text/plain": [
              "(336776, 19)"
            ]
          },
          "metadata": {
            "tags": []
          },
          "execution_count": 4
        }
      ]
    },
    {
      "metadata": {
        "id": "vDhP4ynUX7JF",
        "colab_type": "code",
        "colab": {},
        "outputId": "32071ac0-55c9-40ba-ab93-c2972b7100a5"
      },
      "cell_type": "code",
      "source": [
        "# 1.5:. Numerical Columns : -----\n",
        "flighData.describe(include=['number'])"
      ],
      "execution_count": 0,
      "outputs": [
        {
          "output_type": "execute_result",
          "data": {
            "text/html": [
              "<div>\n",
              "<style>\n",
              "    .dataframe thead tr:only-child th {\n",
              "        text-align: right;\n",
              "    }\n",
              "\n",
              "    .dataframe thead th {\n",
              "        text-align: left;\n",
              "    }\n",
              "\n",
              "    .dataframe tbody tr th {\n",
              "        vertical-align: top;\n",
              "    }\n",
              "</style>\n",
              "<table border=\"1\" class=\"dataframe\">\n",
              "  <thead>\n",
              "    <tr style=\"text-align: right;\">\n",
              "      <th></th>\n",
              "      <th>year</th>\n",
              "      <th>month</th>\n",
              "      <th>day</th>\n",
              "      <th>dep_time</th>\n",
              "      <th>sched_dep_time</th>\n",
              "      <th>dep_delay</th>\n",
              "      <th>arr_time</th>\n",
              "      <th>sched_arr_time</th>\n",
              "      <th>arr_delay</th>\n",
              "      <th>flight</th>\n",
              "      <th>air_time</th>\n",
              "      <th>distance</th>\n",
              "      <th>hour</th>\n",
              "      <th>minute</th>\n",
              "    </tr>\n",
              "  </thead>\n",
              "  <tbody>\n",
              "    <tr>\n",
              "      <th>count</th>\n",
              "      <td>336776.0</td>\n",
              "      <td>336776.000000</td>\n",
              "      <td>336776.000000</td>\n",
              "      <td>328521.000000</td>\n",
              "      <td>336776.000000</td>\n",
              "      <td>328521.000000</td>\n",
              "      <td>328063.000000</td>\n",
              "      <td>336776.000000</td>\n",
              "      <td>327346.000000</td>\n",
              "      <td>336776.000000</td>\n",
              "      <td>327346.000000</td>\n",
              "      <td>336776.000000</td>\n",
              "      <td>336776.000000</td>\n",
              "      <td>336776.000000</td>\n",
              "    </tr>\n",
              "    <tr>\n",
              "      <th>mean</th>\n",
              "      <td>2013.0</td>\n",
              "      <td>6.548510</td>\n",
              "      <td>15.710787</td>\n",
              "      <td>1349.109947</td>\n",
              "      <td>1344.254840</td>\n",
              "      <td>12.639070</td>\n",
              "      <td>1502.054999</td>\n",
              "      <td>1536.380220</td>\n",
              "      <td>6.895377</td>\n",
              "      <td>1971.923620</td>\n",
              "      <td>150.686460</td>\n",
              "      <td>1039.912604</td>\n",
              "      <td>13.180247</td>\n",
              "      <td>26.230100</td>\n",
              "    </tr>\n",
              "    <tr>\n",
              "      <th>std</th>\n",
              "      <td>0.0</td>\n",
              "      <td>3.414457</td>\n",
              "      <td>8.768607</td>\n",
              "      <td>488.281791</td>\n",
              "      <td>467.335756</td>\n",
              "      <td>40.210061</td>\n",
              "      <td>533.264132</td>\n",
              "      <td>497.457142</td>\n",
              "      <td>44.633292</td>\n",
              "      <td>1632.471938</td>\n",
              "      <td>93.688305</td>\n",
              "      <td>733.233033</td>\n",
              "      <td>4.661316</td>\n",
              "      <td>19.300846</td>\n",
              "    </tr>\n",
              "    <tr>\n",
              "      <th>min</th>\n",
              "      <td>2013.0</td>\n",
              "      <td>1.000000</td>\n",
              "      <td>1.000000</td>\n",
              "      <td>1.000000</td>\n",
              "      <td>106.000000</td>\n",
              "      <td>-43.000000</td>\n",
              "      <td>1.000000</td>\n",
              "      <td>1.000000</td>\n",
              "      <td>-86.000000</td>\n",
              "      <td>1.000000</td>\n",
              "      <td>20.000000</td>\n",
              "      <td>17.000000</td>\n",
              "      <td>1.000000</td>\n",
              "      <td>0.000000</td>\n",
              "    </tr>\n",
              "    <tr>\n",
              "      <th>25%</th>\n",
              "      <td>2013.0</td>\n",
              "      <td>4.000000</td>\n",
              "      <td>8.000000</td>\n",
              "      <td>907.000000</td>\n",
              "      <td>906.000000</td>\n",
              "      <td>-5.000000</td>\n",
              "      <td>1104.000000</td>\n",
              "      <td>1124.000000</td>\n",
              "      <td>-17.000000</td>\n",
              "      <td>553.000000</td>\n",
              "      <td>82.000000</td>\n",
              "      <td>502.000000</td>\n",
              "      <td>9.000000</td>\n",
              "      <td>8.000000</td>\n",
              "    </tr>\n",
              "    <tr>\n",
              "      <th>50%</th>\n",
              "      <td>2013.0</td>\n",
              "      <td>7.000000</td>\n",
              "      <td>16.000000</td>\n",
              "      <td>1401.000000</td>\n",
              "      <td>1359.000000</td>\n",
              "      <td>-2.000000</td>\n",
              "      <td>1535.000000</td>\n",
              "      <td>1556.000000</td>\n",
              "      <td>-5.000000</td>\n",
              "      <td>1496.000000</td>\n",
              "      <td>129.000000</td>\n",
              "      <td>872.000000</td>\n",
              "      <td>13.000000</td>\n",
              "      <td>29.000000</td>\n",
              "    </tr>\n",
              "    <tr>\n",
              "      <th>75%</th>\n",
              "      <td>2013.0</td>\n",
              "      <td>10.000000</td>\n",
              "      <td>23.000000</td>\n",
              "      <td>1744.000000</td>\n",
              "      <td>1729.000000</td>\n",
              "      <td>11.000000</td>\n",
              "      <td>1940.000000</td>\n",
              "      <td>1945.000000</td>\n",
              "      <td>14.000000</td>\n",
              "      <td>3465.000000</td>\n",
              "      <td>192.000000</td>\n",
              "      <td>1389.000000</td>\n",
              "      <td>17.000000</td>\n",
              "      <td>44.000000</td>\n",
              "    </tr>\n",
              "    <tr>\n",
              "      <th>max</th>\n",
              "      <td>2013.0</td>\n",
              "      <td>12.000000</td>\n",
              "      <td>31.000000</td>\n",
              "      <td>2400.000000</td>\n",
              "      <td>2359.000000</td>\n",
              "      <td>1301.000000</td>\n",
              "      <td>2400.000000</td>\n",
              "      <td>2359.000000</td>\n",
              "      <td>1272.000000</td>\n",
              "      <td>8500.000000</td>\n",
              "      <td>695.000000</td>\n",
              "      <td>4983.000000</td>\n",
              "      <td>23.000000</td>\n",
              "      <td>59.000000</td>\n",
              "    </tr>\n",
              "  </tbody>\n",
              "</table>\n",
              "</div>"
            ],
            "text/plain": [
              "           year          month            day       dep_time  sched_dep_time  \\\n",
              "count  336776.0  336776.000000  336776.000000  328521.000000   336776.000000   \n",
              "mean     2013.0       6.548510      15.710787    1349.109947     1344.254840   \n",
              "std         0.0       3.414457       8.768607     488.281791      467.335756   \n",
              "min      2013.0       1.000000       1.000000       1.000000      106.000000   \n",
              "25%      2013.0       4.000000       8.000000     907.000000      906.000000   \n",
              "50%      2013.0       7.000000      16.000000    1401.000000     1359.000000   \n",
              "75%      2013.0      10.000000      23.000000    1744.000000     1729.000000   \n",
              "max      2013.0      12.000000      31.000000    2400.000000     2359.000000   \n",
              "\n",
              "           dep_delay       arr_time  sched_arr_time      arr_delay  \\\n",
              "count  328521.000000  328063.000000   336776.000000  327346.000000   \n",
              "mean       12.639070    1502.054999     1536.380220       6.895377   \n",
              "std        40.210061     533.264132      497.457142      44.633292   \n",
              "min       -43.000000       1.000000        1.000000     -86.000000   \n",
              "25%        -5.000000    1104.000000     1124.000000     -17.000000   \n",
              "50%        -2.000000    1535.000000     1556.000000      -5.000000   \n",
              "75%        11.000000    1940.000000     1945.000000      14.000000   \n",
              "max      1301.000000    2400.000000     2359.000000    1272.000000   \n",
              "\n",
              "              flight       air_time       distance           hour  \\\n",
              "count  336776.000000  327346.000000  336776.000000  336776.000000   \n",
              "mean     1971.923620     150.686460    1039.912604      13.180247   \n",
              "std      1632.471938      93.688305     733.233033       4.661316   \n",
              "min         1.000000      20.000000      17.000000       1.000000   \n",
              "25%       553.000000      82.000000     502.000000       9.000000   \n",
              "50%      1496.000000     129.000000     872.000000      13.000000   \n",
              "75%      3465.000000     192.000000    1389.000000      17.000000   \n",
              "max      8500.000000     695.000000    4983.000000      23.000000   \n",
              "\n",
              "              minute  \n",
              "count  336776.000000  \n",
              "mean       26.230100  \n",
              "std        19.300846  \n",
              "min         0.000000  \n",
              "25%         8.000000  \n",
              "50%        29.000000  \n",
              "75%        44.000000  \n",
              "max        59.000000  "
            ]
          },
          "metadata": {
            "tags": []
          },
          "execution_count": 5
        }
      ]
    },
    {
      "metadata": {
        "id": "Vkej9bf6X7JL",
        "colab_type": "code",
        "colab": {},
        "outputId": "36400abf-339d-442d-a687-c831d4652946"
      },
      "cell_type": "code",
      "source": [
        "# 1.6: Categorical Columns : -----\n",
        "flighData.describe(include=['object'])"
      ],
      "execution_count": 0,
      "outputs": [
        {
          "output_type": "execute_result",
          "data": {
            "text/html": [
              "<div>\n",
              "<style>\n",
              "    .dataframe thead tr:only-child th {\n",
              "        text-align: right;\n",
              "    }\n",
              "\n",
              "    .dataframe thead th {\n",
              "        text-align: left;\n",
              "    }\n",
              "\n",
              "    .dataframe tbody tr th {\n",
              "        vertical-align: top;\n",
              "    }\n",
              "</style>\n",
              "<table border=\"1\" class=\"dataframe\">\n",
              "  <thead>\n",
              "    <tr style=\"text-align: right;\">\n",
              "      <th></th>\n",
              "      <th>carrier</th>\n",
              "      <th>tailnum</th>\n",
              "      <th>origin</th>\n",
              "      <th>dest</th>\n",
              "      <th>time_hour</th>\n",
              "    </tr>\n",
              "  </thead>\n",
              "  <tbody>\n",
              "    <tr>\n",
              "      <th>count</th>\n",
              "      <td>336776</td>\n",
              "      <td>334264</td>\n",
              "      <td>336776</td>\n",
              "      <td>336776</td>\n",
              "      <td>336776</td>\n",
              "    </tr>\n",
              "    <tr>\n",
              "      <th>unique</th>\n",
              "      <td>16</td>\n",
              "      <td>4043</td>\n",
              "      <td>3</td>\n",
              "      <td>105</td>\n",
              "      <td>6936</td>\n",
              "    </tr>\n",
              "    <tr>\n",
              "      <th>top</th>\n",
              "      <td>UA</td>\n",
              "      <td>N725MQ</td>\n",
              "      <td>EWR</td>\n",
              "      <td>ORD</td>\n",
              "      <td>13-09-2013 08:00</td>\n",
              "    </tr>\n",
              "    <tr>\n",
              "      <th>freq</th>\n",
              "      <td>58665</td>\n",
              "      <td>575</td>\n",
              "      <td>120835</td>\n",
              "      <td>17283</td>\n",
              "      <td>94</td>\n",
              "    </tr>\n",
              "  </tbody>\n",
              "</table>\n",
              "</div>"
            ],
            "text/plain": [
              "       carrier tailnum  origin    dest         time_hour\n",
              "count   336776  334264  336776  336776            336776\n",
              "unique      16    4043       3     105              6936\n",
              "top         UA  N725MQ     EWR     ORD  13-09-2013 08:00\n",
              "freq     58665     575  120835   17283                94"
            ]
          },
          "metadata": {
            "tags": []
          },
          "execution_count": 6
        }
      ]
    },
    {
      "metadata": {
        "id": "jCH1jTezX7JQ",
        "colab_type": "text"
      },
      "cell_type": "markdown",
      "source": [
        "## 2. Check Unique Values :"
      ]
    },
    {
      "metadata": {
        "id": "yrt66AqRX7JR",
        "colab_type": "code",
        "colab": {
          "base_uri": "https://localhost:8080/",
          "height": 180
        },
        "outputId": "1199342a-bd5b-4854-bdb5-d9c02e1e6f2f"
      },
      "cell_type": "code",
      "source": [
        "flighData.flight.nunique() == flighData.shape[0]\n",
        "flighData.tailnum.nunique() == flighData.shape[0]"
      ],
      "execution_count": 4,
      "outputs": [
        {
          "output_type": "error",
          "ename": "NameError",
          "evalue": "ignored",
          "traceback": [
            "\u001b[0;31m---------------------------------------------------------------------------\u001b[0m",
            "\u001b[0;31mNameError\u001b[0m                                 Traceback (most recent call last)",
            "\u001b[0;32m<ipython-input-4-114afcc98688>\u001b[0m in \u001b[0;36m<module>\u001b[0;34m()\u001b[0m\n\u001b[0;32m----> 1\u001b[0;31m \u001b[0mflighData\u001b[0m\u001b[0;34m.\u001b[0m\u001b[0mflight\u001b[0m\u001b[0;34m.\u001b[0m\u001b[0mnunique\u001b[0m\u001b[0;34m(\u001b[0m\u001b[0;34m)\u001b[0m \u001b[0;34m==\u001b[0m \u001b[0mflighData\u001b[0m\u001b[0;34m.\u001b[0m\u001b[0mshape\u001b[0m\u001b[0;34m[\u001b[0m\u001b[0;36m0\u001b[0m\u001b[0;34m]\u001b[0m\u001b[0;34m\u001b[0m\u001b[0m\n\u001b[0m\u001b[1;32m      2\u001b[0m \u001b[0mflighData\u001b[0m\u001b[0;34m.\u001b[0m\u001b[0mtailnum\u001b[0m\u001b[0;34m.\u001b[0m\u001b[0mnunique\u001b[0m\u001b[0;34m(\u001b[0m\u001b[0;34m)\u001b[0m \u001b[0;34m==\u001b[0m \u001b[0mflighData\u001b[0m\u001b[0;34m.\u001b[0m\u001b[0mshape\u001b[0m\u001b[0;34m[\u001b[0m\u001b[0;36m0\u001b[0m\u001b[0;34m]\u001b[0m\u001b[0;34m\u001b[0m\u001b[0m\n",
            "\u001b[0;31mNameError\u001b[0m: name 'flighData' is not defined"
          ]
        }
      ]
    },
    {
      "metadata": {
        "id": "FwnCdC9oX7JX",
        "colab_type": "text"
      },
      "cell_type": "markdown",
      "source": [
        "## 3. Check & Fix Missing data"
      ]
    },
    {
      "metadata": {
        "id": "RF8Wv7KhX7JZ",
        "colab_type": "code",
        "colab": {},
        "outputId": "b207e93f-02fc-4369-a146-67ab3950a8b5"
      },
      "cell_type": "code",
      "source": [
        "# 3.1: Overview : -----\n",
        "flighData.info()"
      ],
      "execution_count": 0,
      "outputs": [
        {
          "output_type": "stream",
          "text": [
            "<class 'pandas.core.frame.DataFrame'>\n",
            "RangeIndex: 336776 entries, 0 to 336775\n",
            "Data columns (total 19 columns):\n",
            "year              336776 non-null int64\n",
            "month             336776 non-null int64\n",
            "day               336776 non-null int64\n",
            "dep_time          328521 non-null float64\n",
            "sched_dep_time    336776 non-null int64\n",
            "dep_delay         328521 non-null float64\n",
            "arr_time          328063 non-null float64\n",
            "sched_arr_time    336776 non-null int64\n",
            "arr_delay         327346 non-null float64\n",
            "carrier           336776 non-null object\n",
            "flight            336776 non-null int64\n",
            "tailnum           334264 non-null object\n",
            "origin            336776 non-null object\n",
            "dest              336776 non-null object\n",
            "air_time          327346 non-null float64\n",
            "distance          336776 non-null int64\n",
            "hour              336776 non-null int64\n",
            "minute            336776 non-null int64\n",
            "time_hour         336776 non-null object\n",
            "dtypes: float64(5), int64(9), object(5)\n",
            "memory usage: 48.8+ MB\n"
          ],
          "name": "stdout"
        }
      ]
    },
    {
      "metadata": {
        "id": "84UvX7LWX7Je",
        "colab_type": "code",
        "colab": {},
        "outputId": "d4f3e4d7-4d85-4072-b5a0-07bf593930e3"
      },
      "cell_type": "code",
      "source": [
        "# 3.2. Check Null : -----\n",
        "flighData.isnull().sum()\n"
      ],
      "execution_count": 0,
      "outputs": [
        {
          "output_type": "execute_result",
          "data": {
            "text/plain": [
              "year                 0\n",
              "month                0\n",
              "day                  0\n",
              "dep_time          8255\n",
              "sched_dep_time       0\n",
              "dep_delay         8255\n",
              "arr_time          8713\n",
              "sched_arr_time       0\n",
              "arr_delay         9430\n",
              "carrier              0\n",
              "flight               0\n",
              "tailnum           2512\n",
              "origin               0\n",
              "dest                 0\n",
              "air_time          9430\n",
              "distance             0\n",
              "hour                 0\n",
              "minute               0\n",
              "time_hour            0\n",
              "dtype: int64"
            ]
          },
          "metadata": {
            "tags": []
          },
          "execution_count": 9
        }
      ]
    },
    {
      "metadata": {
        "id": "eWW9c7OnX7Jk",
        "colab_type": "code",
        "colab": {},
        "outputId": "94864bb5-01c8-4c84-b4f4-6901f5c28220"
      },
      "cell_type": "code",
      "source": [
        "len(flighData[flighData['arr_time'].isnull() & flighData['dep_time'].isnull()])"
      ],
      "execution_count": 0,
      "outputs": [
        {
          "output_type": "execute_result",
          "data": {
            "text/plain": [
              "8255"
            ]
          },
          "metadata": {
            "tags": []
          },
          "execution_count": 10
        }
      ]
    },
    {
      "metadata": {
        "id": "vd3mvYUQX7Jq",
        "colab_type": "text"
      },
      "cell_type": "markdown",
      "source": [
        "Note 1:\n",
        "- There are 8255 rows in which both arrival & departure time is not available. We can drop above rows from dataset!"
      ]
    },
    {
      "metadata": {
        "id": "-Qk18UVPX7Jr",
        "colab_type": "code",
        "colab": {},
        "outputId": "c412e1c5-ad97-49f9-86e8-33a275f4c36c"
      },
      "cell_type": "code",
      "source": [
        "flighData.dropna(subset=['dep_time', 'arr_time'], how='all',inplace=True)\n",
        "flighData.isnull().sum()"
      ],
      "execution_count": 0,
      "outputs": [
        {
          "output_type": "execute_result",
          "data": {
            "text/plain": [
              "year                 0\n",
              "month                0\n",
              "day                  0\n",
              "dep_time             0\n",
              "sched_dep_time       0\n",
              "dep_delay            0\n",
              "arr_time           458\n",
              "sched_arr_time       0\n",
              "arr_delay         1175\n",
              "carrier              0\n",
              "flight               0\n",
              "tailnum              0\n",
              "origin               0\n",
              "dest                 0\n",
              "air_time          1175\n",
              "distance             0\n",
              "hour                 0\n",
              "minute               0\n",
              "time_hour            0\n",
              "dtype: int64"
            ]
          },
          "metadata": {
            "tags": []
          },
          "execution_count": 11
        }
      ]
    },
    {
      "metadata": {
        "id": "EWxxdilKX7Jv",
        "colab_type": "text"
      },
      "cell_type": "markdown",
      "source": [
        "Note 2:\n",
        "- There are 458 Flights for which we have arr_time is missing but we have dep_time. That means these flights actually started their journey . Now we need to find their arr_time and fill it accuratly in 'arr_time'\n",
        "- We can fill these rows by adding tavel time in dep_time . sched_arr_time - sched_dep_time"
      ]
    },
    {
      "metadata": {
        "id": "K3ElFNXUX7Jw",
        "colab_type": "code",
        "colab": {},
        "outputId": "e46fc271-031d-4b53-da3e-7f6b39c16615"
      },
      "cell_type": "code",
      "source": [
        "# as per HH:MM:SS Format\n",
        "\n",
        "flighData[\"sched_dep_time\"]= pd.to_numeric(flighData['sched_dep_time']).fillna(0).astype(np.int64).apply(lambda x: '{0:0>4}'.format(x))\n",
        "flighData[\"sched_dep_time\"]= pd.to_timedelta(flighData[\"sched_dep_time\"].str[:2]+\":\"+ flighData[\"sched_dep_time\"].str[-2:]+\":00\")\n",
        "\n",
        "flighData[\"sched_arr_time\"]= pd.to_numeric(flighData['sched_arr_time']).fillna(0).astype(np.int64).apply(lambda x: '{0:0>4}'.format(x))\n",
        "flighData[\"sched_arr_time\"]= pd.to_timedelta(flighData[\"sched_arr_time\"].str[:2]+\":\"+ flighData[\"sched_arr_time\"].str[-2:]+\":00\")\n",
        "\n",
        "temp_arr_time = pd.concat([flighData[\"sched_dep_time\"],flighData[\"sched_arr_time\"]], axis=1, keys=['sched_dep_time','sched_arr_time'])\n",
        "temp_arr_time.head()"
      ],
      "execution_count": 0,
      "outputs": [
        {
          "output_type": "execute_result",
          "data": {
            "text/html": [
              "<div>\n",
              "<style>\n",
              "    .dataframe thead tr:only-child th {\n",
              "        text-align: right;\n",
              "    }\n",
              "\n",
              "    .dataframe thead th {\n",
              "        text-align: left;\n",
              "    }\n",
              "\n",
              "    .dataframe tbody tr th {\n",
              "        vertical-align: top;\n",
              "    }\n",
              "</style>\n",
              "<table border=\"1\" class=\"dataframe\">\n",
              "  <thead>\n",
              "    <tr style=\"text-align: right;\">\n",
              "      <th></th>\n",
              "      <th>sched_dep_time</th>\n",
              "      <th>sched_arr_time</th>\n",
              "    </tr>\n",
              "  </thead>\n",
              "  <tbody>\n",
              "    <tr>\n",
              "      <th>0</th>\n",
              "      <td>05:15:00</td>\n",
              "      <td>08:19:00</td>\n",
              "    </tr>\n",
              "    <tr>\n",
              "      <th>1</th>\n",
              "      <td>05:29:00</td>\n",
              "      <td>08:30:00</td>\n",
              "    </tr>\n",
              "    <tr>\n",
              "      <th>2</th>\n",
              "      <td>05:40:00</td>\n",
              "      <td>08:50:00</td>\n",
              "    </tr>\n",
              "    <tr>\n",
              "      <th>3</th>\n",
              "      <td>05:45:00</td>\n",
              "      <td>10:22:00</td>\n",
              "    </tr>\n",
              "    <tr>\n",
              "      <th>4</th>\n",
              "      <td>06:00:00</td>\n",
              "      <td>08:37:00</td>\n",
              "    </tr>\n",
              "  </tbody>\n",
              "</table>\n",
              "</div>"
            ],
            "text/plain": [
              "  sched_dep_time sched_arr_time\n",
              "0       05:15:00       08:19:00\n",
              "1       05:29:00       08:30:00\n",
              "2       05:40:00       08:50:00\n",
              "3       05:45:00       10:22:00\n",
              "4       06:00:00       08:37:00"
            ]
          },
          "metadata": {
            "tags": []
          },
          "execution_count": 12
        }
      ]
    },
    {
      "metadata": {
        "id": "5P6RsGGJX7J3",
        "colab_type": "code",
        "colab": {},
        "outputId": "7dd68dd4-ae9d-48bd-a2a9-c11dcbbd433e"
      },
      "cell_type": "code",
      "source": [
        "flighData[\"dep_time_new\"]= pd.to_numeric(flighData['dep_time']).fillna(0).astype(np.int64).apply(lambda x: '{0:0>4}'.format(x))\n",
        "flighData[\"dep_time_new\"]= pd.to_timedelta(flighData[\"dep_time_new\"].str[:2]+\":\"+ flighData[\"dep_time_new\"].str[-2:]+\":00\")\n",
        "\n",
        "flighData[\"arr_time_new\"]= pd.to_numeric(flighData['arr_time']).fillna(0).astype(np.int64).apply(lambda x: '{0:0>4}'.format(x))\n",
        "flighData[\"arr_time_new\"]= pd.to_timedelta(flighData[\"arr_time_new\"].str[:2]+\":\"+ flighData[\"arr_time_new\"].str[-2:]+\":00\")\n",
        "\n",
        "temp_arr_time = pd.concat([flighData[\"dep_time\"],flighData[\"dep_time_new\"],flighData[\"arr_time\"],flighData[\"arr_time_new\"]], axis=1, keys=['dep_time','dep_time_new','arr_time','arr_time_new'])\n",
        "temp_arr_time.head()"
      ],
      "execution_count": 0,
      "outputs": [
        {
          "output_type": "execute_result",
          "data": {
            "text/html": [
              "<div>\n",
              "<style>\n",
              "    .dataframe thead tr:only-child th {\n",
              "        text-align: right;\n",
              "    }\n",
              "\n",
              "    .dataframe thead th {\n",
              "        text-align: left;\n",
              "    }\n",
              "\n",
              "    .dataframe tbody tr th {\n",
              "        vertical-align: top;\n",
              "    }\n",
              "</style>\n",
              "<table border=\"1\" class=\"dataframe\">\n",
              "  <thead>\n",
              "    <tr style=\"text-align: right;\">\n",
              "      <th></th>\n",
              "      <th>dep_time</th>\n",
              "      <th>dep_time_new</th>\n",
              "      <th>arr_time</th>\n",
              "      <th>arr_time_new</th>\n",
              "    </tr>\n",
              "  </thead>\n",
              "  <tbody>\n",
              "    <tr>\n",
              "      <th>0</th>\n",
              "      <td>517.0</td>\n",
              "      <td>05:17:00</td>\n",
              "      <td>830.0</td>\n",
              "      <td>08:30:00</td>\n",
              "    </tr>\n",
              "    <tr>\n",
              "      <th>1</th>\n",
              "      <td>533.0</td>\n",
              "      <td>05:33:00</td>\n",
              "      <td>850.0</td>\n",
              "      <td>08:50:00</td>\n",
              "    </tr>\n",
              "    <tr>\n",
              "      <th>2</th>\n",
              "      <td>542.0</td>\n",
              "      <td>05:42:00</td>\n",
              "      <td>923.0</td>\n",
              "      <td>09:23:00</td>\n",
              "    </tr>\n",
              "    <tr>\n",
              "      <th>3</th>\n",
              "      <td>544.0</td>\n",
              "      <td>05:44:00</td>\n",
              "      <td>1004.0</td>\n",
              "      <td>10:04:00</td>\n",
              "    </tr>\n",
              "    <tr>\n",
              "      <th>4</th>\n",
              "      <td>554.0</td>\n",
              "      <td>05:54:00</td>\n",
              "      <td>812.0</td>\n",
              "      <td>08:12:00</td>\n",
              "    </tr>\n",
              "  </tbody>\n",
              "</table>\n",
              "</div>"
            ],
            "text/plain": [
              "   dep_time dep_time_new  arr_time arr_time_new\n",
              "0     517.0     05:17:00     830.0     08:30:00\n",
              "1     533.0     05:33:00     850.0     08:50:00\n",
              "2     542.0     05:42:00     923.0     09:23:00\n",
              "3     544.0     05:44:00    1004.0     10:04:00\n",
              "4     554.0     05:54:00     812.0     08:12:00"
            ]
          },
          "metadata": {
            "tags": []
          },
          "execution_count": 15
        }
      ]
    },
    {
      "metadata": {
        "id": "TZ-V4IIoX7J7",
        "colab_type": "code",
        "colab": {},
        "outputId": "5df6b1ad-399b-4fd3-84e8-8da6a5176035"
      },
      "cell_type": "code",
      "source": [
        "flighData['time_hour']=pd.to_datetime(flighData['time_hour'])\n",
        "flighData.head()"
      ],
      "execution_count": 0,
      "outputs": [
        {
          "output_type": "execute_result",
          "data": {
            "text/html": [
              "<div>\n",
              "<style>\n",
              "    .dataframe thead tr:only-child th {\n",
              "        text-align: right;\n",
              "    }\n",
              "\n",
              "    .dataframe thead th {\n",
              "        text-align: left;\n",
              "    }\n",
              "\n",
              "    .dataframe tbody tr th {\n",
              "        vertical-align: top;\n",
              "    }\n",
              "</style>\n",
              "<table border=\"1\" class=\"dataframe\">\n",
              "  <thead>\n",
              "    <tr style=\"text-align: right;\">\n",
              "      <th></th>\n",
              "      <th>year</th>\n",
              "      <th>month</th>\n",
              "      <th>day</th>\n",
              "      <th>dep_time</th>\n",
              "      <th>sched_dep_time</th>\n",
              "      <th>dep_delay</th>\n",
              "      <th>arr_time</th>\n",
              "      <th>sched_arr_time</th>\n",
              "      <th>arr_delay</th>\n",
              "      <th>carrier</th>\n",
              "      <th>...</th>\n",
              "      <th>origin</th>\n",
              "      <th>dest</th>\n",
              "      <th>air_time</th>\n",
              "      <th>distance</th>\n",
              "      <th>hour</th>\n",
              "      <th>minute</th>\n",
              "      <th>time_hour</th>\n",
              "      <th>dep_time_new</th>\n",
              "      <th>arr_time_new</th>\n",
              "      <th>sched_diff</th>\n",
              "    </tr>\n",
              "  </thead>\n",
              "  <tbody>\n",
              "    <tr>\n",
              "      <th>0</th>\n",
              "      <td>2013</td>\n",
              "      <td>1</td>\n",
              "      <td>1</td>\n",
              "      <td>517.0</td>\n",
              "      <td>05:15:00</td>\n",
              "      <td>2.0</td>\n",
              "      <td>830.0</td>\n",
              "      <td>08:19:00</td>\n",
              "      <td>11.0</td>\n",
              "      <td>UA</td>\n",
              "      <td>...</td>\n",
              "      <td>EWR</td>\n",
              "      <td>IAH</td>\n",
              "      <td>227.0</td>\n",
              "      <td>1400</td>\n",
              "      <td>5</td>\n",
              "      <td>15</td>\n",
              "      <td>2013-01-01 05:00:00</td>\n",
              "      <td>05:17:00</td>\n",
              "      <td>08:30:00</td>\n",
              "      <td>03:04:00</td>\n",
              "    </tr>\n",
              "    <tr>\n",
              "      <th>1</th>\n",
              "      <td>2013</td>\n",
              "      <td>1</td>\n",
              "      <td>1</td>\n",
              "      <td>533.0</td>\n",
              "      <td>05:29:00</td>\n",
              "      <td>4.0</td>\n",
              "      <td>850.0</td>\n",
              "      <td>08:30:00</td>\n",
              "      <td>20.0</td>\n",
              "      <td>UA</td>\n",
              "      <td>...</td>\n",
              "      <td>LGA</td>\n",
              "      <td>IAH</td>\n",
              "      <td>227.0</td>\n",
              "      <td>1416</td>\n",
              "      <td>5</td>\n",
              "      <td>29</td>\n",
              "      <td>2013-01-01 05:00:00</td>\n",
              "      <td>05:33:00</td>\n",
              "      <td>08:50:00</td>\n",
              "      <td>03:01:00</td>\n",
              "    </tr>\n",
              "    <tr>\n",
              "      <th>2</th>\n",
              "      <td>2013</td>\n",
              "      <td>1</td>\n",
              "      <td>1</td>\n",
              "      <td>542.0</td>\n",
              "      <td>05:40:00</td>\n",
              "      <td>2.0</td>\n",
              "      <td>923.0</td>\n",
              "      <td>08:50:00</td>\n",
              "      <td>33.0</td>\n",
              "      <td>AA</td>\n",
              "      <td>...</td>\n",
              "      <td>JFK</td>\n",
              "      <td>MIA</td>\n",
              "      <td>160.0</td>\n",
              "      <td>1089</td>\n",
              "      <td>5</td>\n",
              "      <td>40</td>\n",
              "      <td>2013-01-01 05:00:00</td>\n",
              "      <td>05:42:00</td>\n",
              "      <td>09:23:00</td>\n",
              "      <td>03:10:00</td>\n",
              "    </tr>\n",
              "    <tr>\n",
              "      <th>3</th>\n",
              "      <td>2013</td>\n",
              "      <td>1</td>\n",
              "      <td>1</td>\n",
              "      <td>544.0</td>\n",
              "      <td>05:45:00</td>\n",
              "      <td>-1.0</td>\n",
              "      <td>1004.0</td>\n",
              "      <td>10:22:00</td>\n",
              "      <td>-18.0</td>\n",
              "      <td>B6</td>\n",
              "      <td>...</td>\n",
              "      <td>JFK</td>\n",
              "      <td>BQN</td>\n",
              "      <td>183.0</td>\n",
              "      <td>1576</td>\n",
              "      <td>5</td>\n",
              "      <td>45</td>\n",
              "      <td>2013-01-01 05:00:00</td>\n",
              "      <td>05:44:00</td>\n",
              "      <td>10:04:00</td>\n",
              "      <td>04:37:00</td>\n",
              "    </tr>\n",
              "    <tr>\n",
              "      <th>4</th>\n",
              "      <td>2013</td>\n",
              "      <td>1</td>\n",
              "      <td>1</td>\n",
              "      <td>554.0</td>\n",
              "      <td>06:00:00</td>\n",
              "      <td>-6.0</td>\n",
              "      <td>812.0</td>\n",
              "      <td>08:37:00</td>\n",
              "      <td>-25.0</td>\n",
              "      <td>DL</td>\n",
              "      <td>...</td>\n",
              "      <td>LGA</td>\n",
              "      <td>ATL</td>\n",
              "      <td>116.0</td>\n",
              "      <td>762</td>\n",
              "      <td>6</td>\n",
              "      <td>0</td>\n",
              "      <td>2013-01-01 06:00:00</td>\n",
              "      <td>05:54:00</td>\n",
              "      <td>08:12:00</td>\n",
              "      <td>02:37:00</td>\n",
              "    </tr>\n",
              "  </tbody>\n",
              "</table>\n",
              "<p>5 rows × 22 columns</p>\n",
              "</div>"
            ],
            "text/plain": [
              "   year  month  day  dep_time sched_dep_time  dep_delay  arr_time  \\\n",
              "0  2013      1    1     517.0       05:15:00        2.0     830.0   \n",
              "1  2013      1    1     533.0       05:29:00        4.0     850.0   \n",
              "2  2013      1    1     542.0       05:40:00        2.0     923.0   \n",
              "3  2013      1    1     544.0       05:45:00       -1.0    1004.0   \n",
              "4  2013      1    1     554.0       06:00:00       -6.0     812.0   \n",
              "\n",
              "  sched_arr_time  arr_delay carrier    ...      origin dest air_time distance  \\\n",
              "0       08:19:00       11.0      UA    ...         EWR  IAH    227.0     1400   \n",
              "1       08:30:00       20.0      UA    ...         LGA  IAH    227.0     1416   \n",
              "2       08:50:00       33.0      AA    ...         JFK  MIA    160.0     1089   \n",
              "3       10:22:00      -18.0      B6    ...         JFK  BQN    183.0     1576   \n",
              "4       08:37:00      -25.0      DL    ...         LGA  ATL    116.0      762   \n",
              "\n",
              "   hour  minute           time_hour  dep_time_new arr_time_new sched_diff  \n",
              "0     5      15 2013-01-01 05:00:00      05:17:00     08:30:00   03:04:00  \n",
              "1     5      29 2013-01-01 05:00:00      05:33:00     08:50:00   03:01:00  \n",
              "2     5      40 2013-01-01 05:00:00      05:42:00     09:23:00   03:10:00  \n",
              "3     5      45 2013-01-01 05:00:00      05:44:00     10:04:00   04:37:00  \n",
              "4     6       0 2013-01-01 06:00:00      05:54:00     08:12:00   02:37:00  \n",
              "\n",
              "[5 rows x 22 columns]"
            ]
          },
          "metadata": {
            "tags": []
          },
          "execution_count": 52
        }
      ]
    },
    {
      "metadata": {
        "id": "Prv8_3jWX7J_",
        "colab_type": "code",
        "colab": {}
      },
      "cell_type": "code",
      "source": [
        "missing_arr_tme_index = flighData[flighData['arr_time'].isnull() == True]"
      ],
      "execution_count": 0,
      "outputs": []
    },
    {
      "metadata": {
        "id": "8BEWNj96X7KD",
        "colab_type": "code",
        "colab": {}
      },
      "cell_type": "code",
      "source": [
        ""
      ],
      "execution_count": 0,
      "outputs": []
    },
    {
      "metadata": {
        "id": "qoeiXzfqX7KH",
        "colab_type": "code",
        "colab": {}
      },
      "cell_type": "code",
      "source": [
        ""
      ],
      "execution_count": 0,
      "outputs": []
    }
  ]
}